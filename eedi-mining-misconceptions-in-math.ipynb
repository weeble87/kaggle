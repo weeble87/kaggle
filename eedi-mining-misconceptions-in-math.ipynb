{
 "cells": [
  {
   "cell_type": "code",
   "execution_count": 1,
   "id": "f46298e5",
   "metadata": {
    "execution": {
     "iopub.execute_input": "2024-10-11T21:32:40.153394Z",
     "iopub.status.busy": "2024-10-11T21:32:40.152524Z",
     "iopub.status.idle": "2024-10-11T21:32:57.604819Z",
     "shell.execute_reply": "2024-10-11T21:32:57.603392Z"
    },
    "papermill": {
     "duration": 17.465059,
     "end_time": "2024-10-11T21:32:57.607511",
     "exception": false,
     "start_time": "2024-10-11T21:32:40.142452",
     "status": "completed"
    },
    "tags": []
   },
   "outputs": [],
   "source": [
    "# installing the libraries for transformers\n",
    "#!pip install -U -q sentence-transformers transformers bitsandbytes accelerate sentencepiece\n",
    "\n",
    "# install libarary to convert latex to text\n",
    "#!pip install -U pylatexenc\n"
   ]
  },
  {
   "cell_type": "code",
   "execution_count": 2,
   "id": "6d24f104",
   "metadata": {},
   "outputs": [
    {
     "name": "stderr",
     "output_type": "stream",
     "text": [
      "<>:1: SyntaxWarning: invalid escape sequence '\\i'\n",
      "<>:1: SyntaxWarning: invalid escape sequence '\\i'\n",
      "C:\\Users\\billl\\AppData\\Local\\Temp\\ipykernel_9796\\354891771.py:1: SyntaxWarning: invalid escape sequence '\\i'\n",
      "  \"\"\" # test tokenize latex\n"
     ]
    },
    {
     "data": {
      "text/plain": [
       "' # test tokenize latex\\nfrom transformers import AlbertTokenizer\\nimport torch\\n\\n# Load the tokenizer\\ntokenizer = AlbertTokenizer.from_pretrained(\\'albert-base-v2\\')\\n\\n# Example LaTeX math expressions\\nlatex_expressions = [\\n    r\"\\x0crac{a}{b}\",\\n    r\"\\\\int_0^{\\\\infty} e^{-x^2} dx\",\\n    r\"E = mc^2\"\\n]\\n\\n# Tokenize the LaTeX expressions\\ntokens = tokenizer(latex_expressions, padding=True, truncation=True, return_tensors=\"pt\")\\n\\n# Print tokenized input\\nprint(tokens.input_ids)\\n '"
      ]
     },
     "execution_count": 2,
     "metadata": {},
     "output_type": "execute_result"
    }
   ],
   "source": [
    "\"\"\" # test tokenize latex\n",
    "from transformers import AlbertTokenizer\n",
    "import torch\n",
    "\n",
    "# Load the tokenizer\n",
    "tokenizer = AlbertTokenizer.from_pretrained('albert-base-v2')\n",
    "\n",
    "# Example LaTeX math expressions\n",
    "latex_expressions = [\n",
    "    r\"\\frac{a}{b}\",\n",
    "    r\"\\int_0^{\\infty} e^{-x^2} dx\",\n",
    "    r\"E = mc^2\"\n",
    "]\n",
    "\n",
    "# Tokenize the LaTeX expressions\n",
    "tokens = tokenizer(latex_expressions, padding=True, truncation=True, return_tensors=\"pt\")\n",
    "\n",
    "# Print tokenized input\n",
    "print(tokens.input_ids)\n",
    " \"\"\""
   ]
  },
  {
   "cell_type": "code",
   "execution_count": 3,
   "id": "c6b4fb81",
   "metadata": {
    "_cell_guid": "b1076dfc-b9ad-4769-8c92-a6c4dae69d19",
    "_uuid": "8f2839f25d086af736a60e9eeb907d3b93b6e0e5",
    "execution": {
     "iopub.execute_input": "2024-10-11T21:32:57.621236Z",
     "iopub.status.busy": "2024-10-11T21:32:57.620241Z",
     "iopub.status.idle": "2024-10-11T21:33:03.549233Z",
     "shell.execute_reply": "2024-10-11T21:33:03.547837Z"
    },
    "papermill": {
     "duration": 5.938697,
     "end_time": "2024-10-11T21:33:03.552021",
     "exception": false,
     "start_time": "2024-10-11T21:32:57.613324",
     "status": "completed"
    },
    "tags": []
   },
   "outputs": [],
   "source": [
    "# This Python 3 environment comes with many helpful analytics libraries installed\n",
    "# It is defined by the kaggle/python Docker image: https://github.com/kaggle/docker-python\n",
    "# For example, here's several helpful packages to load\n",
    "\n",
    "import numpy as np # linear algebra\n",
    "import pandas as pd # data processing, CSV file I/O (e.g. pd.read_csv)\n",
    "\n",
    "# Deep Learning library\n",
    "import torch\n",
    "\n",
    "# to load transformer models\n",
    "#from sentence_transformers import SentenceTransformer\n",
    "#from transformers import T5Tokenizer, T5ForConditionalGeneration, pipeline # T5 is Google\n",
    "\n",
    "# to split the data\n",
    "from sklearn.model_selection import train_test_split\n",
    "\n",
    "# to compute performance metrics\n",
    "from sklearn.metrics import confusion_matrix, classification_report, accuracy_score\n"
   ]
  },
  {
   "cell_type": "code",
   "execution_count": 4,
   "id": "78fa8816",
   "metadata": {
    "execution": {
     "iopub.execute_input": "2024-10-11T21:33:03.565014Z",
     "iopub.status.busy": "2024-10-11T21:33:03.564479Z",
     "iopub.status.idle": "2024-10-11T21:33:03.572812Z",
     "shell.execute_reply": "2024-10-11T21:33:03.571462Z"
    },
    "papermill": {
     "duration": 0.017682,
     "end_time": "2024-10-11T21:33:03.575387",
     "exception": false,
     "start_time": "2024-10-11T21:33:03.557705",
     "status": "completed"
    },
    "tags": []
   },
   "outputs": [
    {
     "name": "stdout",
     "output_type": "stream",
     "text": [
      "['misconception_mapping.csv', 'sample_submission.csv', 'test.csv', 'train.csv']\n",
      "./eedi-mining/eedi-mining-misconceptions-in-mathematics\\misconception_mapping.csv\n",
      "./eedi-mining/eedi-mining-misconceptions-in-mathematics\\sample_submission.csv\n",
      "./eedi-mining/eedi-mining-misconceptions-in-mathematics\\test.csv\n",
      "./eedi-mining/eedi-mining-misconceptions-in-mathematics\\train.csv\n"
     ]
    }
   ],
   "source": [
    "\n",
    "# Input data files are available in the read-only \"../input/\" directory\n",
    "# For example, running this (by clicking run or pressing Shift+Enter) will list all files under the input directory\n",
    "\n",
    "import os\n",
    "files = []\n",
    "# on vs code\n",
    "data_dir = './eedi-mining/eedi-mining-misconceptions-in-mathematics'\n",
    "miscon_file_index = 0\n",
    "train_file_index = 3\n",
    "test_file_index = 2\n",
    "# on kaggle\n",
    "# data_dir = '/kaggle/input'\n",
    "#miscon_file_index = 1\n",
    "#train_file_index = 2\n",
    "#test_file_index = 3\n",
    "for dirname, _, filenames in os.walk(data_dir):\n",
    "    print (filenames)\n",
    "    for filename in filenames:\n",
    "        print(os.path.join(dirname, filename))\n",
    "        files.append(os.path.join(dirname, filename))\n",
    "misconceptions_filename = files[miscon_file_index]\n",
    "train_filename = files[train_file_index]\n",
    "test_filename = files[test_file_index]\n",
    "# For Kaggle, You can write up to 20GB to the current directory (/kaggle/working/) that gets preserved as output when you create a version using \"Save & Run All\" \n",
    "# You can also write temporary files to /kaggle/temp/, but they won't be saved outside of the current session"
   ]
  },
  {
   "cell_type": "markdown",
   "id": "91933dd3",
   "metadata": {
    "papermill": {
     "duration": 0.005348,
     "end_time": "2024-10-11T21:33:03.586369",
     "exception": false,
     "start_time": "2024-10-11T21:33:03.581021",
     "status": "completed"
    },
    "tags": []
   },
   "source": [
    "## File and Field Information\n",
    "### [train/test].csv\n",
    "\n",
    "* QuestionId - Unique question identifier (int).\n",
    "* ConstructId - Unique construct identifier (int) .\n",
    "* ConstructName - Most granular level of knowledge related to question (str).\n",
    "* CorrectAnswer - A, B, C or D (char).\n",
    "* SubjectId - Unique subject identifier (int).\n",
    "* SubjectName - More general context than the construct (str).\n",
    "* QuestionText - Question text extracted from the question image using human-in-the-loop OCR (str) .\n",
    "* Answer[A/B/C/D]Text - Answer option A text extracted from the question image using human-in-the-loop OCR (str).\n",
    "* Misconception[A/B/C/D]Id - Unique misconception identifier (int). Ground truth labels in train.csv; your task is to predict these labels for test.csv.\n",
    "\n",
    "### misconception_mapping.csv\n",
    "maps MisconceptionId to its MisconceptionName\n",
    "\n",
    "### sample_submission.csv\n",
    "A submission file in the correct format.\n",
    "* QuestionId_Answer - Each question has three incorrect answers for which need you predict the MisconceptionId.\n",
    "* MisconceptionId - You can predict up to 25 values, space delimited."
   ]
  },
  {
   "cell_type": "markdown",
   "id": "aa158d76",
   "metadata": {},
   "source": [
    "# get training data"
   ]
  },
  {
   "cell_type": "code",
   "execution_count": 5,
   "id": "da4619fb",
   "metadata": {
    "execution": {
     "iopub.execute_input": "2024-10-11T21:33:03.599250Z",
     "iopub.status.busy": "2024-10-11T21:33:03.598838Z",
     "iopub.status.idle": "2024-10-11T21:33:03.674388Z",
     "shell.execute_reply": "2024-10-11T21:33:03.673179Z"
    },
    "papermill": {
     "duration": 0.085241,
     "end_time": "2024-10-11T21:33:03.677012",
     "exception": false,
     "start_time": "2024-10-11T21:33:03.591771",
     "status": "completed"
    },
    "tags": []
   },
   "outputs": [
    {
     "data": {
      "text/html": [
       "<div>\n",
       "<style scoped>\n",
       "    .dataframe tbody tr th:only-of-type {\n",
       "        vertical-align: middle;\n",
       "    }\n",
       "\n",
       "    .dataframe tbody tr th {\n",
       "        vertical-align: top;\n",
       "    }\n",
       "\n",
       "    .dataframe thead th {\n",
       "        text-align: right;\n",
       "    }\n",
       "</style>\n",
       "<table border=\"1\" class=\"dataframe\">\n",
       "  <thead>\n",
       "    <tr style=\"text-align: right;\">\n",
       "      <th></th>\n",
       "      <th>QuestionId</th>\n",
       "      <th>ConstructId</th>\n",
       "      <th>ConstructName</th>\n",
       "      <th>SubjectId</th>\n",
       "      <th>SubjectName</th>\n",
       "      <th>CorrectAnswer</th>\n",
       "      <th>QuestionText</th>\n",
       "      <th>AnswerAText</th>\n",
       "      <th>AnswerBText</th>\n",
       "      <th>AnswerCText</th>\n",
       "      <th>AnswerDText</th>\n",
       "      <th>MisconceptionAId</th>\n",
       "      <th>MisconceptionBId</th>\n",
       "      <th>MisconceptionCId</th>\n",
       "      <th>MisconceptionDId</th>\n",
       "    </tr>\n",
       "  </thead>\n",
       "  <tbody>\n",
       "    <tr>\n",
       "      <th>0</th>\n",
       "      <td>0</td>\n",
       "      <td>856</td>\n",
       "      <td>Use the order of operations to carry out calcu...</td>\n",
       "      <td>33</td>\n",
       "      <td>BIDMAS</td>\n",
       "      <td>A</td>\n",
       "      <td>\\[\\n3 \\times 2+4-5\\n\\]\\nWhere do the brackets ...</td>\n",
       "      <td>\\( 3 \\times(2+4)-5 \\)</td>\n",
       "      <td>\\( 3 \\times 2+(4-5) \\)</td>\n",
       "      <td>\\( 3 \\times(2+4-5) \\)</td>\n",
       "      <td>Does not need brackets</td>\n",
       "      <td>NaN</td>\n",
       "      <td>NaN</td>\n",
       "      <td>NaN</td>\n",
       "      <td>1672.0</td>\n",
       "    </tr>\n",
       "    <tr>\n",
       "      <th>1</th>\n",
       "      <td>1</td>\n",
       "      <td>1612</td>\n",
       "      <td>Simplify an algebraic fraction by factorising ...</td>\n",
       "      <td>1077</td>\n",
       "      <td>Simplifying Algebraic Fractions</td>\n",
       "      <td>D</td>\n",
       "      <td>Simplify the following, if possible: \\( \\frac{...</td>\n",
       "      <td>\\( m+1 \\)</td>\n",
       "      <td>\\( m+2 \\)</td>\n",
       "      <td>\\( m-1 \\)</td>\n",
       "      <td>Does not simplify</td>\n",
       "      <td>2142.0</td>\n",
       "      <td>143.0</td>\n",
       "      <td>2142.0</td>\n",
       "      <td>NaN</td>\n",
       "    </tr>\n",
       "    <tr>\n",
       "      <th>2</th>\n",
       "      <td>2</td>\n",
       "      <td>2774</td>\n",
       "      <td>Calculate the range from a list of data</td>\n",
       "      <td>339</td>\n",
       "      <td>Range and Interquartile Range from a List of Data</td>\n",
       "      <td>B</td>\n",
       "      <td>Tom and Katie are discussing the \\( 5 \\) plant...</td>\n",
       "      <td>Only\\nTom</td>\n",
       "      <td>Only\\nKatie</td>\n",
       "      <td>Both Tom and Katie</td>\n",
       "      <td>Neither is correct</td>\n",
       "      <td>1287.0</td>\n",
       "      <td>NaN</td>\n",
       "      <td>1287.0</td>\n",
       "      <td>1073.0</td>\n",
       "    </tr>\n",
       "    <tr>\n",
       "      <th>3</th>\n",
       "      <td>3</td>\n",
       "      <td>2377</td>\n",
       "      <td>Recall and use the intersecting diagonals prop...</td>\n",
       "      <td>88</td>\n",
       "      <td>Properties of Quadrilaterals</td>\n",
       "      <td>C</td>\n",
       "      <td>The angles highlighted on this rectangle with ...</td>\n",
       "      <td>acute</td>\n",
       "      <td>obtuse</td>\n",
       "      <td>\\( 90^{\\circ} \\)</td>\n",
       "      <td>Not enough information</td>\n",
       "      <td>1180.0</td>\n",
       "      <td>1180.0</td>\n",
       "      <td>NaN</td>\n",
       "      <td>1180.0</td>\n",
       "    </tr>\n",
       "    <tr>\n",
       "      <th>4</th>\n",
       "      <td>4</td>\n",
       "      <td>3387</td>\n",
       "      <td>Substitute positive integer values into formul...</td>\n",
       "      <td>67</td>\n",
       "      <td>Substitution into Formula</td>\n",
       "      <td>A</td>\n",
       "      <td>The equation \\( f=3 r^{2}+3 \\) is used to find...</td>\n",
       "      <td>\\( 30 \\)</td>\n",
       "      <td>\\( 27 \\)</td>\n",
       "      <td>\\( 51 \\)</td>\n",
       "      <td>\\( 24 \\)</td>\n",
       "      <td>NaN</td>\n",
       "      <td>NaN</td>\n",
       "      <td>NaN</td>\n",
       "      <td>1818.0</td>\n",
       "    </tr>\n",
       "  </tbody>\n",
       "</table>\n",
       "</div>"
      ],
      "text/plain": [
       "   QuestionId  ConstructId                                      ConstructName  \\\n",
       "0           0          856  Use the order of operations to carry out calcu...   \n",
       "1           1         1612  Simplify an algebraic fraction by factorising ...   \n",
       "2           2         2774            Calculate the range from a list of data   \n",
       "3           3         2377  Recall and use the intersecting diagonals prop...   \n",
       "4           4         3387  Substitute positive integer values into formul...   \n",
       "\n",
       "   SubjectId                                        SubjectName CorrectAnswer  \\\n",
       "0         33                                             BIDMAS             A   \n",
       "1       1077                    Simplifying Algebraic Fractions             D   \n",
       "2        339  Range and Interquartile Range from a List of Data             B   \n",
       "3         88                       Properties of Quadrilaterals             C   \n",
       "4         67                          Substitution into Formula             A   \n",
       "\n",
       "                                        QuestionText            AnswerAText  \\\n",
       "0  \\[\\n3 \\times 2+4-5\\n\\]\\nWhere do the brackets ...  \\( 3 \\times(2+4)-5 \\)   \n",
       "1  Simplify the following, if possible: \\( \\frac{...              \\( m+1 \\)   \n",
       "2  Tom and Katie are discussing the \\( 5 \\) plant...              Only\\nTom   \n",
       "3  The angles highlighted on this rectangle with ...                  acute   \n",
       "4  The equation \\( f=3 r^{2}+3 \\) is used to find...               \\( 30 \\)   \n",
       "\n",
       "              AnswerBText            AnswerCText             AnswerDText  \\\n",
       "0  \\( 3 \\times 2+(4-5) \\)  \\( 3 \\times(2+4-5) \\)  Does not need brackets   \n",
       "1               \\( m+2 \\)              \\( m-1 \\)       Does not simplify   \n",
       "2             Only\\nKatie     Both Tom and Katie      Neither is correct   \n",
       "3                  obtuse       \\( 90^{\\circ} \\)  Not enough information   \n",
       "4                \\( 27 \\)               \\( 51 \\)                \\( 24 \\)   \n",
       "\n",
       "   MisconceptionAId  MisconceptionBId  MisconceptionCId  MisconceptionDId  \n",
       "0               NaN               NaN               NaN            1672.0  \n",
       "1            2142.0             143.0            2142.0               NaN  \n",
       "2            1287.0               NaN            1287.0            1073.0  \n",
       "3            1180.0            1180.0               NaN            1180.0  \n",
       "4               NaN               NaN               NaN            1818.0  "
      ]
     },
     "execution_count": 5,
     "metadata": {},
     "output_type": "execute_result"
    }
   ],
   "source": [
    "train_data = pd.read_csv(train_filename)\n",
    "train_data_orig = train_data.copy()\n",
    "train_data.head()"
   ]
  },
  {
   "cell_type": "code",
   "execution_count": 6,
   "id": "4e6d36e7",
   "metadata": {
    "execution": {
     "iopub.execute_input": "2024-10-11T21:33:03.691466Z",
     "iopub.status.busy": "2024-10-11T21:33:03.691030Z",
     "iopub.status.idle": "2024-10-11T21:33:03.697465Z",
     "shell.execute_reply": "2024-10-11T21:33:03.696225Z"
    },
    "papermill": {
     "duration": 0.016504,
     "end_time": "2024-10-11T21:33:03.699689",
     "exception": false,
     "start_time": "2024-10-11T21:33:03.683185",
     "status": "completed"
    },
    "tags": []
   },
   "outputs": [
    {
     "name": "stdout",
     "output_type": "stream",
     "text": [
      "train_data shape\n",
      "rows 1869\n",
      "columns 15\n"
     ]
    }
   ],
   "source": [
    "print (\"train_data shape\")\n",
    "print(\"rows\",train_data.shape[0])\n",
    "print(\"columns\",train_data.shape[1])"
   ]
  },
  {
   "cell_type": "markdown",
   "id": "7af197cc",
   "metadata": {},
   "source": [
    "## Get test data"
   ]
  },
  {
   "cell_type": "code",
   "execution_count": 7,
   "id": "78a60534",
   "metadata": {},
   "outputs": [
    {
     "name": "stdout",
     "output_type": "stream",
     "text": [
      "test_data shape\n",
      "rows 3\n",
      "columns 11\n"
     ]
    }
   ],
   "source": [
    "test_data = pd.read_csv(test_filename)\n",
    "test_data_orig = test_data.copy()\n",
    "test_data.head()\n",
    "print (\"test_data shape\")\n",
    "print(\"rows\", test_data.shape[0])\n",
    "print(\"columns\",test_data.shape[1])"
   ]
  },
  {
   "cell_type": "markdown",
   "id": "f3a6c2c3",
   "metadata": {},
   "source": [
    "## Get misconception data\n"
   ]
  },
  {
   "cell_type": "code",
   "execution_count": 8,
   "id": "ea7fc5c4",
   "metadata": {},
   "outputs": [
    {
     "name": "stdout",
     "output_type": "stream",
     "text": [
      "miscon_data shape\n",
      "rows 2587\n",
      "columns 2\n"
     ]
    }
   ],
   "source": [
    "miscon_data = pd.read_csv(misconceptions_filename)\n",
    "miscon_data.head()\n",
    "print (\"miscon_data shape\")\n",
    "print(\"rows\", miscon_data.shape[0])\n",
    "print(\"columns\",miscon_data.shape[1])"
   ]
  },
  {
   "cell_type": "code",
   "execution_count": 9,
   "id": "43fec04c",
   "metadata": {
    "execution": {
     "iopub.execute_input": "2024-10-11T21:33:03.713457Z",
     "iopub.status.busy": "2024-10-11T21:33:03.713053Z",
     "iopub.status.idle": "2024-10-11T21:33:03.748166Z",
     "shell.execute_reply": "2024-10-11T21:33:03.747082Z"
    },
    "papermill": {
     "duration": 0.044582,
     "end_time": "2024-10-11T21:33:03.750510",
     "exception": false,
     "start_time": "2024-10-11T21:33:03.705928",
     "status": "completed"
    },
    "tags": []
   },
   "outputs": [
    {
     "name": "stdout",
     "output_type": "stream",
     "text": [
      "163  different subject groups\n"
     ]
    },
    {
     "data": {
      "text/html": [
       "<div>\n",
       "<style scoped>\n",
       "    .dataframe tbody tr th:only-of-type {\n",
       "        vertical-align: middle;\n",
       "    }\n",
       "\n",
       "    .dataframe tbody tr th {\n",
       "        vertical-align: top;\n",
       "    }\n",
       "\n",
       "    .dataframe thead th {\n",
       "        text-align: right;\n",
       "    }\n",
       "</style>\n",
       "<table border=\"1\" class=\"dataframe\">\n",
       "  <thead>\n",
       "    <tr style=\"text-align: right;\">\n",
       "      <th></th>\n",
       "      <th>SubjectId</th>\n",
       "      <th>SubjectName</th>\n",
       "      <th>QuestionId</th>\n",
       "      <th>ConstructId</th>\n",
       "      <th>ConstructName</th>\n",
       "      <th>CorrectAnswer</th>\n",
       "      <th>QuestionText</th>\n",
       "      <th>AnswerAText</th>\n",
       "      <th>AnswerBText</th>\n",
       "      <th>AnswerCText</th>\n",
       "      <th>AnswerDText</th>\n",
       "      <th>MisconceptionAId</th>\n",
       "      <th>MisconceptionBId</th>\n",
       "      <th>MisconceptionCId</th>\n",
       "      <th>MisconceptionDId</th>\n",
       "    </tr>\n",
       "  </thead>\n",
       "  <tbody>\n",
       "    <tr>\n",
       "      <th>0</th>\n",
       "      <td>64</td>\n",
       "      <td>Linear Equations</td>\n",
       "      <td>53</td>\n",
       "      <td>53</td>\n",
       "      <td>53</td>\n",
       "      <td>53</td>\n",
       "      <td>53</td>\n",
       "      <td>53</td>\n",
       "      <td>53</td>\n",
       "      <td>53</td>\n",
       "      <td>53</td>\n",
       "      <td>23</td>\n",
       "      <td>32</td>\n",
       "      <td>30</td>\n",
       "      <td>27</td>\n",
       "    </tr>\n",
       "    <tr>\n",
       "      <th>1</th>\n",
       "      <td>171</td>\n",
       "      <td>Linear Sequences (nth term)</td>\n",
       "      <td>44</td>\n",
       "      <td>44</td>\n",
       "      <td>44</td>\n",
       "      <td>44</td>\n",
       "      <td>44</td>\n",
       "      <td>44</td>\n",
       "      <td>44</td>\n",
       "      <td>44</td>\n",
       "      <td>44</td>\n",
       "      <td>28</td>\n",
       "      <td>20</td>\n",
       "      <td>21</td>\n",
       "      <td>19</td>\n",
       "    </tr>\n",
       "    <tr>\n",
       "      <th>2</th>\n",
       "      <td>33</td>\n",
       "      <td>BIDMAS</td>\n",
       "      <td>37</td>\n",
       "      <td>37</td>\n",
       "      <td>37</td>\n",
       "      <td>37</td>\n",
       "      <td>37</td>\n",
       "      <td>37</td>\n",
       "      <td>37</td>\n",
       "      <td>37</td>\n",
       "      <td>37</td>\n",
       "      <td>20</td>\n",
       "      <td>21</td>\n",
       "      <td>23</td>\n",
       "      <td>24</td>\n",
       "    </tr>\n",
       "    <tr>\n",
       "      <th>3</th>\n",
       "      <td>65</td>\n",
       "      <td>Quadratic Equations</td>\n",
       "      <td>36</td>\n",
       "      <td>36</td>\n",
       "      <td>36</td>\n",
       "      <td>36</td>\n",
       "      <td>36</td>\n",
       "      <td>36</td>\n",
       "      <td>36</td>\n",
       "      <td>36</td>\n",
       "      <td>36</td>\n",
       "      <td>18</td>\n",
       "      <td>17</td>\n",
       "      <td>25</td>\n",
       "      <td>14</td>\n",
       "    </tr>\n",
       "    <tr>\n",
       "      <th>4</th>\n",
       "      <td>75</td>\n",
       "      <td>Area of Simple Shapes</td>\n",
       "      <td>36</td>\n",
       "      <td>36</td>\n",
       "      <td>36</td>\n",
       "      <td>36</td>\n",
       "      <td>36</td>\n",
       "      <td>36</td>\n",
       "      <td>36</td>\n",
       "      <td>36</td>\n",
       "      <td>36</td>\n",
       "      <td>22</td>\n",
       "      <td>26</td>\n",
       "      <td>23</td>\n",
       "      <td>24</td>\n",
       "    </tr>\n",
       "  </tbody>\n",
       "</table>\n",
       "</div>"
      ],
      "text/plain": [
       "   SubjectId                  SubjectName  QuestionId  ConstructId  \\\n",
       "0         64             Linear Equations          53           53   \n",
       "1        171  Linear Sequences (nth term)          44           44   \n",
       "2         33                       BIDMAS          37           37   \n",
       "3         65          Quadratic Equations          36           36   \n",
       "4         75        Area of Simple Shapes          36           36   \n",
       "\n",
       "   ConstructName  CorrectAnswer  QuestionText  AnswerAText  AnswerBText  \\\n",
       "0             53             53            53           53           53   \n",
       "1             44             44            44           44           44   \n",
       "2             37             37            37           37           37   \n",
       "3             36             36            36           36           36   \n",
       "4             36             36            36           36           36   \n",
       "\n",
       "   AnswerCText  AnswerDText  MisconceptionAId  MisconceptionBId  \\\n",
       "0           53           53                23                32   \n",
       "1           44           44                28                20   \n",
       "2           37           37                20                21   \n",
       "3           36           36                18                17   \n",
       "4           36           36                22                26   \n",
       "\n",
       "   MisconceptionCId  MisconceptionDId  \n",
       "0                30                27  \n",
       "1                21                19  \n",
       "2                23                24  \n",
       "3                25                14  \n",
       "4                23                24  "
      ]
     },
     "execution_count": 9,
     "metadata": {},
     "output_type": "execute_result"
    }
   ],
   "source": [
    "subject_groups = train_data.groupby([\"SubjectId\",\"SubjectName\"]).count().sort_values('QuestionId',ascending=False).reset_index()\n",
    "print(subject_groups.shape[0], \" different subject groups\")\n",
    "subject_groups.head()"
   ]
  },
  {
   "cell_type": "code",
   "execution_count": 10,
   "id": "37911c24",
   "metadata": {
    "execution": {
     "iopub.execute_input": "2024-10-11T21:33:03.764474Z",
     "iopub.status.busy": "2024-10-11T21:33:03.764077Z",
     "iopub.status.idle": "2024-10-11T21:33:03.784796Z",
     "shell.execute_reply": "2024-10-11T21:33:03.783750Z"
    },
    "papermill": {
     "duration": 0.03045,
     "end_time": "2024-10-11T21:33:03.787167",
     "exception": false,
     "start_time": "2024-10-11T21:33:03.756717",
     "status": "completed"
    },
    "tags": []
   },
   "outputs": [
    {
     "name": "stdout",
     "output_type": "stream",
     "text": [
      "percentages of null values\n"
     ]
    },
    {
     "data": {
      "text/html": [
       "<div>\n",
       "<style scoped>\n",
       "    .dataframe tbody tr th:only-of-type {\n",
       "        vertical-align: middle;\n",
       "    }\n",
       "\n",
       "    .dataframe tbody tr th {\n",
       "        vertical-align: top;\n",
       "    }\n",
       "\n",
       "    .dataframe thead th {\n",
       "        text-align: right;\n",
       "    }\n",
       "</style>\n",
       "<table border=\"1\" class=\"dataframe\">\n",
       "  <thead>\n",
       "    <tr style=\"text-align: right;\">\n",
       "      <th></th>\n",
       "      <th>Count</th>\n",
       "      <th>Percentage</th>\n",
       "    </tr>\n",
       "  </thead>\n",
       "  <tbody>\n",
       "    <tr>\n",
       "      <th>MisconceptionAId</th>\n",
       "      <td>734</td>\n",
       "      <td>39.272338</td>\n",
       "    </tr>\n",
       "    <tr>\n",
       "      <th>MisconceptionBId</th>\n",
       "      <td>751</td>\n",
       "      <td>40.181915</td>\n",
       "    </tr>\n",
       "    <tr>\n",
       "      <th>MisconceptionCId</th>\n",
       "      <td>789</td>\n",
       "      <td>42.215088</td>\n",
       "    </tr>\n",
       "    <tr>\n",
       "      <th>MisconceptionDId</th>\n",
       "      <td>832</td>\n",
       "      <td>44.515784</td>\n",
       "    </tr>\n",
       "  </tbody>\n",
       "</table>\n",
       "</div>"
      ],
      "text/plain": [
       "                  Count  Percentage\n",
       "MisconceptionAId    734   39.272338\n",
       "MisconceptionBId    751   40.181915\n",
       "MisconceptionCId    789   42.215088\n",
       "MisconceptionDId    832   44.515784"
      ]
     },
     "execution_count": 10,
     "metadata": {},
     "output_type": "execute_result"
    }
   ],
   "source": [
    "print(\"percentages of null values\")\n",
    "pd.DataFrame({'Count':train_data.isnull().sum()[train_data.isnull().sum()>0],'Percentage':(train_data.isnull().sum()[train_data.isnull().sum()>0]/train_data.shape[0])*100})"
   ]
  },
  {
   "cell_type": "markdown",
   "id": "a3b7dfc4",
   "metadata": {
    "papermill": {
     "duration": 0.006399,
     "end_time": "2024-10-11T21:33:03.800248",
     "exception": false,
     "start_time": "2024-10-11T21:33:03.793849",
     "status": "completed"
    },
    "tags": []
   },
   "source": [
    "## Clean up missing data"
   ]
  },
  {
   "cell_type": "code",
   "execution_count": 11,
   "id": "39ae2fd4",
   "metadata": {
    "execution": {
     "iopub.execute_input": "2024-10-11T21:33:03.814857Z",
     "iopub.status.busy": "2024-10-11T21:33:03.814474Z",
     "iopub.status.idle": "2024-10-11T21:33:03.826219Z",
     "shell.execute_reply": "2024-10-11T21:33:03.825074Z"
    },
    "papermill": {
     "duration": 0.021905,
     "end_time": "2024-10-11T21:33:03.828723",
     "exception": false,
     "start_time": "2024-10-11T21:33:03.806818",
     "status": "completed"
    },
    "tags": []
   },
   "outputs": [
    {
     "name": "stdout",
     "output_type": "stream",
     "text": [
      "(244, 15)\n"
     ]
    },
    {
     "data": {
      "text/plain": [
       "(482, 15)"
      ]
     },
     "execution_count": 11,
     "metadata": {},
     "output_type": "execute_result"
    }
   ],
   "source": [
    "# records where more than one misconception id is missing\n",
    "missing_a_misconception = train_data[(train_data.CorrectAnswer == \"A\") & (train_data.MisconceptionBId.isnull() | train_data.MisconceptionCId.isnull()  | train_data.MisconceptionDId.isnull()) ]\n",
    "print(missing_a_misconception.shape)\n",
    "missing_a_misconception.head()\n",
    "train_data[(train_data.CorrectAnswer == \"A\")].shape"
   ]
  },
  {
   "cell_type": "code",
   "execution_count": 12,
   "id": "4e0a88b4",
   "metadata": {
    "execution": {
     "iopub.execute_input": "2024-10-11T21:33:03.844101Z",
     "iopub.status.busy": "2024-10-11T21:33:03.843134Z",
     "iopub.status.idle": "2024-10-11T21:33:03.863713Z",
     "shell.execute_reply": "2024-10-11T21:33:03.862490Z"
    },
    "papermill": {
     "duration": 0.030708,
     "end_time": "2024-10-11T21:33:03.866058",
     "exception": false,
     "start_time": "2024-10-11T21:33:03.835350",
     "status": "completed"
    },
    "tags": []
   },
   "outputs": [
    {
     "data": {
      "text/html": [
       "<div>\n",
       "<style scoped>\n",
       "    .dataframe tbody tr th:only-of-type {\n",
       "        vertical-align: middle;\n",
       "    }\n",
       "\n",
       "    .dataframe tbody tr th {\n",
       "        vertical-align: top;\n",
       "    }\n",
       "\n",
       "    .dataframe thead th {\n",
       "        text-align: right;\n",
       "    }\n",
       "</style>\n",
       "<table border=\"1\" class=\"dataframe\">\n",
       "  <thead>\n",
       "    <tr style=\"text-align: right;\">\n",
       "      <th></th>\n",
       "      <th>QuestionId</th>\n",
       "      <th>ConstructId</th>\n",
       "      <th>ConstructName</th>\n",
       "      <th>SubjectId</th>\n",
       "      <th>SubjectName</th>\n",
       "      <th>CorrectAnswer</th>\n",
       "      <th>QuestionText</th>\n",
       "      <th>AnswerAText</th>\n",
       "      <th>AnswerBText</th>\n",
       "      <th>AnswerCText</th>\n",
       "      <th>AnswerDText</th>\n",
       "      <th>MisconceptionAId</th>\n",
       "      <th>MisconceptionBId</th>\n",
       "      <th>MisconceptionCId</th>\n",
       "      <th>MisconceptionDId</th>\n",
       "    </tr>\n",
       "  </thead>\n",
       "  <tbody>\n",
       "    <tr>\n",
       "      <th>10</th>\n",
       "      <td>10</td>\n",
       "      <td>1414</td>\n",
       "      <td>Expand products of three binomials in the form...</td>\n",
       "      <td>335</td>\n",
       "      <td>Expanding Triple Brackets and more</td>\n",
       "      <td>B</td>\n",
       "      <td>John is expanding these three brackets:\\n\\(\\n(...</td>\n",
       "      <td>\\( +6 x^{2} \\)</td>\n",
       "      <td>\\( \\begin{array}{l}+6 x^{2} \\\\ -3 x^{2} \\\\ +5 ...</td>\n",
       "      <td>\\( \\begin{array}{l}+6 x^{2} \\\\ +3 x^{2} \\\\ +5 ...</td>\n",
       "      <td>\\( \\begin{array}{l}+6 x^{2} \\\\ -3 x^{2} \\\\ -5 ...</td>\n",
       "      <td>NaN</td>\n",
       "      <td>NaN</td>\n",
       "      <td>583.0</td>\n",
       "      <td>NaN</td>\n",
       "    </tr>\n",
       "    <tr>\n",
       "      <th>13</th>\n",
       "      <td>13</td>\n",
       "      <td>3065</td>\n",
       "      <td>Convert from hours to minutes</td>\n",
       "      <td>209</td>\n",
       "      <td>Time</td>\n",
       "      <td>B</td>\n",
       "      <td>Hannah's journey to camp is \\( 3 \\) hours and ...</td>\n",
       "      <td>\\( 196 \\) minutes</td>\n",
       "      <td>\\( 18 \\) minutes</td>\n",
       "      <td>\\( 102 \\) minutes</td>\n",
       "      <td>\\( 12 \\) minutes</td>\n",
       "      <td>NaN</td>\n",
       "      <td>NaN</td>\n",
       "      <td>161.0</td>\n",
       "      <td>NaN</td>\n",
       "    </tr>\n",
       "    <tr>\n",
       "      <th>18</th>\n",
       "      <td>18</td>\n",
       "      <td>261</td>\n",
       "      <td>Carry out missing number subtraction problems ...</td>\n",
       "      <td>211</td>\n",
       "      <td>Adding and Subtracting Negative Numbers</td>\n",
       "      <td>B</td>\n",
       "      <td>![Number line with -12 and -7 marked. Starting...</td>\n",
       "      <td>\\( -7 \\)</td>\n",
       "      <td>\\( -5 \\)</td>\n",
       "      <td>\\( -2 \\)</td>\n",
       "      <td>\\( -6 \\)</td>\n",
       "      <td>2179.0</td>\n",
       "      <td>NaN</td>\n",
       "      <td>NaN</td>\n",
       "      <td>1824.0</td>\n",
       "    </tr>\n",
       "    <tr>\n",
       "      <th>20</th>\n",
       "      <td>20</td>\n",
       "      <td>2306</td>\n",
       "      <td>Given the volume of a cuboid, work out missing...</td>\n",
       "      <td>189</td>\n",
       "      <td>Volume of Prisms</td>\n",
       "      <td>B</td>\n",
       "      <td>The volume of this cuboid is \\( 30 \\mathrm{~cm...</td>\n",
       "      <td>\\( 6 \\mathrm{~cm} \\)</td>\n",
       "      <td>\\( 5 \\mathrm{~cm} \\)</td>\n",
       "      <td>\\( 4 \\mathrm{~cm} \\)</td>\n",
       "      <td>\\( 25 \\mathrm{~cm} \\)</td>\n",
       "      <td>NaN</td>\n",
       "      <td>NaN</td>\n",
       "      <td>NaN</td>\n",
       "      <td>1984.0</td>\n",
       "    </tr>\n",
       "    <tr>\n",
       "      <th>21</th>\n",
       "      <td>21</td>\n",
       "      <td>1434</td>\n",
       "      <td>Factorise a quadratic expression in the form a...</td>\n",
       "      <td>53</td>\n",
       "      <td>Factorising into a Double Bracket</td>\n",
       "      <td>B</td>\n",
       "      <td>Step 1: Factorise the following expression\\n\\n...</td>\n",
       "      <td>\\( (3 x+2)(3 x+1) \\)</td>\n",
       "      <td>\\( (3 x+2)(x+1) \\)</td>\n",
       "      <td>Cannot be factorised</td>\n",
       "      <td>\\( (3 x+1)(x+2) \\)</td>\n",
       "      <td>2240.0</td>\n",
       "      <td>NaN</td>\n",
       "      <td>NaN</td>\n",
       "      <td>NaN</td>\n",
       "    </tr>\n",
       "  </tbody>\n",
       "</table>\n",
       "</div>"
      ],
      "text/plain": [
       "    QuestionId  ConstructId  \\\n",
       "10          10         1414   \n",
       "13          13         3065   \n",
       "18          18          261   \n",
       "20          20         2306   \n",
       "21          21         1434   \n",
       "\n",
       "                                        ConstructName  SubjectId  \\\n",
       "10  Expand products of three binomials in the form...        335   \n",
       "13                      Convert from hours to minutes        209   \n",
       "18  Carry out missing number subtraction problems ...        211   \n",
       "20  Given the volume of a cuboid, work out missing...        189   \n",
       "21  Factorise a quadratic expression in the form a...         53   \n",
       "\n",
       "                                SubjectName CorrectAnswer  \\\n",
       "10       Expanding Triple Brackets and more             B   \n",
       "13                                     Time             B   \n",
       "18  Adding and Subtracting Negative Numbers             B   \n",
       "20                         Volume of Prisms             B   \n",
       "21        Factorising into a Double Bracket             B   \n",
       "\n",
       "                                         QuestionText           AnswerAText  \\\n",
       "10  John is expanding these three brackets:\\n\\(\\n(...        \\( +6 x^{2} \\)   \n",
       "13  Hannah's journey to camp is \\( 3 \\) hours and ...     \\( 196 \\) minutes   \n",
       "18  ![Number line with -12 and -7 marked. Starting...              \\( -7 \\)   \n",
       "20  The volume of this cuboid is \\( 30 \\mathrm{~cm...  \\( 6 \\mathrm{~cm} \\)   \n",
       "21  Step 1: Factorise the following expression\\n\\n...  \\( (3 x+2)(3 x+1) \\)   \n",
       "\n",
       "                                          AnswerBText  \\\n",
       "10  \\( \\begin{array}{l}+6 x^{2} \\\\ -3 x^{2} \\\\ +5 ...   \n",
       "13                                   \\( 18 \\) minutes   \n",
       "18                                           \\( -5 \\)   \n",
       "20                               \\( 5 \\mathrm{~cm} \\)   \n",
       "21                                 \\( (3 x+2)(x+1) \\)   \n",
       "\n",
       "                                          AnswerCText  \\\n",
       "10  \\( \\begin{array}{l}+6 x^{2} \\\\ +3 x^{2} \\\\ +5 ...   \n",
       "13                                  \\( 102 \\) minutes   \n",
       "18                                           \\( -2 \\)   \n",
       "20                               \\( 4 \\mathrm{~cm} \\)   \n",
       "21                               Cannot be factorised   \n",
       "\n",
       "                                          AnswerDText  MisconceptionAId  \\\n",
       "10  \\( \\begin{array}{l}+6 x^{2} \\\\ -3 x^{2} \\\\ -5 ...               NaN   \n",
       "13                                   \\( 12 \\) minutes               NaN   \n",
       "18                                           \\( -6 \\)            2179.0   \n",
       "20                              \\( 25 \\mathrm{~cm} \\)               NaN   \n",
       "21                                 \\( (3 x+1)(x+2) \\)            2240.0   \n",
       "\n",
       "    MisconceptionBId  MisconceptionCId  MisconceptionDId  \n",
       "10               NaN             583.0               NaN  \n",
       "13               NaN             161.0               NaN  \n",
       "18               NaN               NaN            1824.0  \n",
       "20               NaN               NaN            1984.0  \n",
       "21               NaN               NaN               NaN  "
      ]
     },
     "execution_count": 12,
     "metadata": {},
     "output_type": "execute_result"
    }
   ],
   "source": [
    "missing_b_misconpception = train_data[(train_data.CorrectAnswer == \"B\") & (train_data.MisconceptionAId.isnull() | train_data.MisconceptionCId.isnull()) ]\n",
    "missing_b_misconpception.head()"
   ]
  },
  {
   "cell_type": "code",
   "execution_count": 13,
   "id": "058c0c21",
   "metadata": {
    "execution": {
     "iopub.execute_input": "2024-10-11T21:33:03.882489Z",
     "iopub.status.busy": "2024-10-11T21:33:03.881247Z",
     "iopub.status.idle": "2024-10-11T21:33:03.904981Z",
     "shell.execute_reply": "2024-10-11T21:33:03.903808Z"
    },
    "papermill": {
     "duration": 0.034228,
     "end_time": "2024-10-11T21:33:03.907447",
     "exception": false,
     "start_time": "2024-10-11T21:33:03.873219",
     "status": "completed"
    },
    "tags": []
   },
   "outputs": [
    {
     "data": {
      "text/html": [
       "<div>\n",
       "<style scoped>\n",
       "    .dataframe tbody tr th:only-of-type {\n",
       "        vertical-align: middle;\n",
       "    }\n",
       "\n",
       "    .dataframe tbody tr th {\n",
       "        vertical-align: top;\n",
       "    }\n",
       "\n",
       "    .dataframe thead th {\n",
       "        text-align: right;\n",
       "    }\n",
       "</style>\n",
       "<table border=\"1\" class=\"dataframe\">\n",
       "  <thead>\n",
       "    <tr style=\"text-align: right;\">\n",
       "      <th></th>\n",
       "      <th>MisconceptionId</th>\n",
       "      <th>MisconceptionName</th>\n",
       "    </tr>\n",
       "  </thead>\n",
       "  <tbody>\n",
       "    <tr>\n",
       "      <th>0</th>\n",
       "      <td>0</td>\n",
       "      <td>Does not know that angles in a triangle sum to...</td>\n",
       "    </tr>\n",
       "    <tr>\n",
       "      <th>1</th>\n",
       "      <td>1</td>\n",
       "      <td>Uses dividing fractions method for multiplying...</td>\n",
       "    </tr>\n",
       "    <tr>\n",
       "      <th>2</th>\n",
       "      <td>2</td>\n",
       "      <td>Believes there are 100 degrees in a full turn</td>\n",
       "    </tr>\n",
       "    <tr>\n",
       "      <th>3</th>\n",
       "      <td>3</td>\n",
       "      <td>Thinks a quadratic without a non variable term...</td>\n",
       "    </tr>\n",
       "    <tr>\n",
       "      <th>4</th>\n",
       "      <td>4</td>\n",
       "      <td>Believes addition of terms and powers of terms...</td>\n",
       "    </tr>\n",
       "  </tbody>\n",
       "</table>\n",
       "</div>"
      ],
      "text/plain": [
       "   MisconceptionId                                  MisconceptionName\n",
       "0                0  Does not know that angles in a triangle sum to...\n",
       "1                1  Uses dividing fractions method for multiplying...\n",
       "2                2      Believes there are 100 degrees in a full turn\n",
       "3                3  Thinks a quadratic without a non variable term...\n",
       "4                4  Believes addition of terms and powers of terms..."
      ]
     },
     "execution_count": 13,
     "metadata": {},
     "output_type": "execute_result"
    }
   ],
   "source": [
    "misc_con_data = pd.read_csv(misconceptions_filename)\n",
    "misc_con_data.head()"
   ]
  },
  {
   "cell_type": "markdown",
   "id": "00ef1936",
   "metadata": {
    "papermill": {
     "duration": 0.006867,
     "end_time": "2024-10-11T21:33:03.921718",
     "exception": false,
     "start_time": "2024-10-11T21:33:03.914851",
     "status": "completed"
    },
    "tags": []
   },
   "source": [
    "## Update data to prepare for creating vectors\n"
   ]
  },
  {
   "cell_type": "code",
   "execution_count": 14,
   "id": "fa7711df",
   "metadata": {
    "execution": {
     "iopub.execute_input": "2024-10-11T21:33:03.937762Z",
     "iopub.status.busy": "2024-10-11T21:33:03.937345Z",
     "iopub.status.idle": "2024-10-11T21:33:03.945991Z",
     "shell.execute_reply": "2024-10-11T21:33:03.945012Z"
    },
    "papermill": {
     "duration": 0.019362,
     "end_time": "2024-10-11T21:33:03.948203",
     "exception": false,
     "start_time": "2024-10-11T21:33:03.928841",
     "status": "completed"
    },
    "tags": []
   },
   "outputs": [],
   "source": [
    "# clean up question\n",
    "# train_data['CleanQuestion'] = train_data['QuestionText'].replace('\\n',' ',regex=True)\n",
    "\n",
    "# create new data frame with just misconceptions\n",
    "# Create a new empty DataFrame\n",
    "miscon_model = pd.DataFrame()\n"
   ]
  },
  {
   "cell_type": "code",
   "execution_count": 15,
   "id": "0e3110a1",
   "metadata": {
    "execution": {
     "iopub.execute_input": "2024-10-11T21:33:03.964356Z",
     "iopub.status.busy": "2024-10-11T21:33:03.963943Z",
     "iopub.status.idle": "2024-10-11T21:33:29.687826Z",
     "shell.execute_reply": "2024-10-11T21:33:29.686904Z"
    },
    "papermill": {
     "duration": 25.734764,
     "end_time": "2024-10-11T21:33:29.690238",
     "exception": false,
     "start_time": "2024-10-11T21:33:03.955474",
     "status": "completed"
    },
    "tags": []
   },
   "outputs": [
    {
     "name": "stderr",
     "output_type": "stream",
     "text": [
      "<>:49: SyntaxWarning: invalid escape sequence '\\i'\n",
      "<>:49: SyntaxWarning: invalid escape sequence '\\i'\n",
      "C:\\Users\\billl\\AppData\\Local\\Temp\\ipykernel_9796\\1611341085.py:49: SyntaxWarning: invalid escape sequence '\\i'\n",
      "  text = \"Here's an example: \\int_0^{\\infty} e^{-x^2} dx.\\n Let's clean it up!\"\n"
     ]
    },
    {
     "name": "stdout",
     "output_type": "stream",
     "text": [
      "heres an example \\int_0^{\\infty} e^{x^2} dx lets clean it up\n"
     ]
    }
   ],
   "source": [
    "# convert latext formatting to text\n",
    "from pylatexenc.latex2text import LatexNodes2Text\n",
    "import pylatexenc\n",
    "# Convert LaTeX to plain text\n",
    "# Function to convert LaTeX to text\n",
    "def latex_to_text(latex_string):\n",
    "    return LatexNodes2Text().latex_to_text(latex_string)\n",
    "\n",
    "# repolace names with variables to get consistency on vectors\n",
    "import spacy\n",
    "\n",
    "# Load the spaCy model\n",
    "# for running locally, need to do\n",
    "# python -m spacy download en_core_web_sm\n",
    "nlp = spacy.load(\"en_core_web_sm\")\n",
    "\n",
    "# Function to replace all detected names with unique variables\n",
    "def replace_names_with_variables(text):\n",
    "    doc = nlp(text)\n",
    "    name_counter = 1\n",
    "    for ent in doc.ents:\n",
    "        if ent.label_ == \"PERSON\":\n",
    "            var_name = f\"NAME{name_counter}\"\n",
    "            text = text.replace(ent.text, var_name)\n",
    "            name_counter += 1\n",
    "    return text\n",
    "\n",
    "#def clean_math_text(text):\n",
    "    # clean_text = latex_to_text(text)\n",
    "    # clean_text = replace_names_with_variables(clean_text)\n",
    "    # remove new line and other characters\n",
    "    # print('before',clean_text)\n",
    "    #clean_text = clean_text.replace('\\n',' ')\n",
    "    # print('after', clean_text)\n",
    "    \n",
    "    #return clean_text \n",
    "import re\n",
    "\n",
    "def clean_math_text(text):\n",
    "    # Lowercase\n",
    "    text = text.lower()\n",
    "    # Remove special characters (keeping LaTeX symbols)\n",
    "    text = re.sub(r'[^a-zA-Z0-9\\s\\\\{}^_]', '', text)\n",
    "    # Remove extra whitespaces\n",
    "    text = re.sub(r'\\s+', ' ', text).strip()\n",
    "    return text\n",
    "\n",
    "# Example text\n",
    "text = \"Here's an example: \\int_0^{\\infty} e^{-x^2} dx.\\n Let's clean it up!\"\n",
    "\n",
    "# Clean the text\n",
    "cleaned_text = clean_math_text(text)\n",
    "print(cleaned_text)\n",
    "\n",
    "\n",
    "# remove special characters like new line\n",
    "#miscon_model['subjectName'] = train_data.SubjectName\n",
    "#miscon_model['constructName'] = train_data.ConstructName\n",
    "#miscon_model['question'] = train_data['QuestionText'].apply(clean_math_text)\n",
    "#  Creating the flattened DataFrame\n",
    "import math\n",
    "flattened_data = []\n",
    "for index, row in train_data.iterrows():\n",
    "    # put incorrect answer A into row\n",
    "    # print (\"a id\",row.MisconceptionAId)\n",
    "\n",
    "    if ((row.CorrectAnswer != \"A\") & (math.isnan(row.MisconceptionAId) == False)):\n",
    "        misconception_row = miscon_data[(miscon_data.MisconceptionId==row.MisconceptionAId)]\n",
    "        formatted_answer = clean_math_text(row['AnswerAText'])\n",
    "        # flattened_data.append({'subjectName': row['SubjectName'], 'constructName': row['ConstructName'], 'latex_formatted_question': row['QuestionText'], 'question': clean_math_text(row['QuestionText']), 'latex_formatted_wrongAnswer': row['AnswerAText'], 'wrongAnswer': clean_math_text(row['AnswerAText']), 'misconception': misconception_row.MisconceptionName})\n",
    "    if ((row.CorrectAnswer != \"B\") & (math.isnan(row.MisconceptionBId)==False)):\n",
    "        formatted_answer= clean_math_text(row['AnswerBText'])\n",
    "        # flattened_data.append({'subjectName': row['SubjectName']}, 'constructName': row['ConstructName'], 'latex_formatted_question': row['QuestionText'], 'question': clean_math_text(row['QuestionText']), 'latext_formatted_wrongAnswer': row['AnswerBText'], 'wrongAnswer': clean_math_text(row['AnswerBText']), 'misconception': misconception_row.MisconceptionName})\n",
    "    if ((row.CorrectAnswer != \"C\") & (math.isnan(row.MisconceptionCId) ==False)):\n",
    "        misconception_row = miscon_data[(miscon_data.MisconceptionId==row.MisconceptionCId)]\n",
    "        formatted_answer = clean_math_text(row['AnswerCText'])        \n",
    "        # flattened_data.append({'subjectName': row['SubjectName'], 'constructName': row['ConstructName'], 'latex_formatted_question': row['QuestionText'], 'question': clean_math_text(row['QuestionText']), 'latext_formatted_wrongAnswer': row['AnswerCText'], 'wrongAnswer': clean_math_text(row['AnswerCText']), 'misconception': misconception_row.MisconceptionName})\n",
    "    if ((row.CorrectAnswer != \"D\") & (math.isnan(row.MisconceptionDId) == False)):\n",
    "        misconception_row = miscon_data[(miscon_data.MisconceptionId==row.MisconceptionDId)]\n",
    "        formatted_answer =  clean_math_text(row['AnswerDText'])\n",
    "        # flattened_data.append({'subjectName': row['SubjectName'], 'constructName': row['ConstructName'], 'latex_formatted_question': row['QuestionText'], 'question': clean_math_text(row['QuestionText']), 'latext_formatted_wrongAnswer': row['AnswerDText'], 'wrongAnswer': clean_math_text(row['AnswerDText']), 'misconception': misconception_row.MisconceptionName})\n",
    "\n",
    "    flattened_data.append({'text': f\"{row['SubjectName']} {row['ConstructName']} {clean_math_text(row['QuestionText'])} {formatted_answer}\", \"label\": misconception_row.MisconceptionName})\n",
    "\n",
    "flattened_df = pd.DataFrame(flattened_data)\n"
   ]
  },
  {
   "cell_type": "code",
   "execution_count": 16,
   "id": "5df628ce",
   "metadata": {},
   "outputs": [
    {
     "data": {
      "text/html": [
       "<div>\n",
       "<style scoped>\n",
       "    .dataframe tbody tr th:only-of-type {\n",
       "        vertical-align: middle;\n",
       "    }\n",
       "\n",
       "    .dataframe tbody tr th {\n",
       "        vertical-align: top;\n",
       "    }\n",
       "\n",
       "    .dataframe thead th {\n",
       "        text-align: right;\n",
       "    }\n",
       "</style>\n",
       "<table border=\"1\" class=\"dataframe\">\n",
       "  <thead>\n",
       "    <tr style=\"text-align: right;\">\n",
       "      <th></th>\n",
       "      <th>text</th>\n",
       "      <th>label</th>\n",
       "    </tr>\n",
       "  </thead>\n",
       "  <tbody>\n",
       "    <tr>\n",
       "      <th>0</th>\n",
       "      <td>BIDMAS Use the order of operations to carry ou...</td>\n",
       "      <td>1672    Confuses the order of operations, beli...</td>\n",
       "    </tr>\n",
       "    <tr>\n",
       "      <th>1</th>\n",
       "      <td>Simplifying Algebraic Fractions Simplify an al...</td>\n",
       "      <td>2142    Does not know that to factorise a quad...</td>\n",
       "    </tr>\n",
       "    <tr>\n",
       "      <th>2</th>\n",
       "      <td>Range and Interquartile Range from a List of D...</td>\n",
       "      <td>1073    Believes if you add the same value to ...</td>\n",
       "    </tr>\n",
       "    <tr>\n",
       "      <th>3</th>\n",
       "      <td>Properties of Quadrilaterals Recall and use th...</td>\n",
       "      <td>1180    Does not know the properties of a rect...</td>\n",
       "    </tr>\n",
       "    <tr>\n",
       "      <th>4</th>\n",
       "      <td>Substitution into Formula Substitute positive ...</td>\n",
       "      <td>1818    Thinks you can find missing values in ...</td>\n",
       "    </tr>\n",
       "  </tbody>\n",
       "</table>\n",
       "</div>"
      ],
      "text/plain": [
       "                                                text  \\\n",
       "0  BIDMAS Use the order of operations to carry ou...   \n",
       "1  Simplifying Algebraic Fractions Simplify an al...   \n",
       "2  Range and Interquartile Range from a List of D...   \n",
       "3  Properties of Quadrilaterals Recall and use th...   \n",
       "4  Substitution into Formula Substitute positive ...   \n",
       "\n",
       "                                               label  \n",
       "0  1672    Confuses the order of operations, beli...  \n",
       "1  2142    Does not know that to factorise a quad...  \n",
       "2  1073    Believes if you add the same value to ...  \n",
       "3  1180    Does not know the properties of a rect...  \n",
       "4  1818    Thinks you can find missing values in ...  "
      ]
     },
     "execution_count": 16,
     "metadata": {},
     "output_type": "execute_result"
    }
   ],
   "source": [
    "flattened_df.head()"
   ]
  },
  {
   "cell_type": "code",
   "execution_count": 17,
   "id": "507f11a3",
   "metadata": {},
   "outputs": [],
   "source": [
    "# save flattened data\n",
    "flattened_df.to_csv('./eedi-mining/model/flattened_misconceptions.csv', index=False)"
   ]
  },
  {
   "cell_type": "code",
   "execution_count": 18,
   "id": "1377b351",
   "metadata": {
    "execution": {
     "iopub.execute_input": "2024-10-11T21:33:29.755434Z",
     "iopub.status.busy": "2024-10-11T21:33:29.755000Z",
     "iopub.status.idle": "2024-10-11T21:33:29.761444Z",
     "shell.execute_reply": "2024-10-11T21:33:29.760316Z"
    },
    "papermill": {
     "duration": 0.018151,
     "end_time": "2024-10-11T21:33:29.763839",
     "exception": false,
     "start_time": "2024-10-11T21:33:29.745688",
     "status": "completed"
    },
    "tags": []
   },
   "outputs": [],
   "source": [
    "# defining a function to compute the cosine similarity between two embedding vectors\n",
    "def cosine_score(text):\n",
    "    # encoding the text\n",
    "    embeddings = model.encode(text)\n",
    "\n",
    "    # calculating the L2 norm of the embedding vector\n",
    "    norm1 = np.linalg.norm(embeddings[0])\n",
    "    norm2 = np.linalg.norm(embeddings[1])\n",
    "\n",
    "    # computing the cosine similarity\n",
    "    cosine_similarity_score = ((np.dot(embeddings[0],embeddings[1]))/(norm1*norm2))\n",
    "\n",
    "    return cosine_similarity_score"
   ]
  },
  {
   "cell_type": "code",
   "execution_count": null,
   "id": "d3209ef6",
   "metadata": {},
   "outputs": [],
   "source": [
    "from transformers import Trainer, TrainingArguments\n",
    "import torch\n",
    "from torch.utils.data import Dataset\n",
    "\n",
    "# Load the tokenizer and model\n",
    "# Load model directly\n",
    "from transformers import AutoTokenizer, AutoModelForPreTraining\n",
    "\n",
    "tokenizer = AutoTokenizer.from_pretrained(\"AnReu/math_pretrained_bert\")\n",
    "model = AutoModelForPreTraining.from_pretrained(\"AnReu/math_pretrained_bert\")\n",
    "\n",
    "# Define a custom dataset class\n",
    "class CustomDataset(Dataset):\n",
    "    def __init__(self, texts, labels):\n",
    "        self.encodings = tokenizer(texts, truncation=True, padding=True)\n",
    "        self.labels = labels\n",
    "\n",
    "    def __len__(self):\n",
    "        return len(self.labels)\n",
    "\n",
    "    def __getitem__(self, idx):\n",
    "        item = {key: torch.tensor(val[idx]) for key, val in self.encodings.items()}\n",
    "        item['labels'] = torch.tensor(self.labels[idx])\n",
    "        return item\n",
    "# get data\n",
    "model_dir = 'c:/ai_ml/kaggle/eedi-mining/model'\n",
    "#           'C:\\ai_ml\\kaggle\\eedi-mining\\model\\flattened_misconceptions.csv'\n",
    "model_data=f\"{model_dir}/flattened_misconceptions.csv\"\n",
    "out_dir = model_dir\n",
    "\n",
    "# Prepare your dataset (replace with your own data)\n",
    "texts = flattened_df['text'].to_list()\n",
    "labels =flattened_df['label'].to_list()\n",
    "dataset = CustomDataset(texts, labels)"
   ]
  }
 ],
 "metadata": {
  "kaggle": {
   "accelerator": "none",
   "dataSources": [
    {
     "databundleVersionId": 9738540,
     "sourceId": 82695,
     "sourceType": "competition"
    }
   ],
   "dockerImageVersionId": 30761,
   "isGpuEnabled": false,
   "isInternetEnabled": true,
   "language": "python",
   "sourceType": "notebook"
  },
  "kernelspec": {
   "display_name": "Python 3",
   "language": "python",
   "name": "python3"
  },
  "language_info": {
   "codemirror_mode": {
    "name": "ipython",
    "version": 3
   },
   "file_extension": ".py",
   "mimetype": "text/x-python",
   "name": "python",
   "nbconvert_exporter": "python",
   "pygments_lexer": "ipython3",
   "version": "3.12.7"
  },
  "papermill": {
   "default_parameters": {},
   "duration": 53.848234,
   "end_time": "2024-10-11T21:33:31.020578",
   "environment_variables": {},
   "exception": null,
   "input_path": "__notebook__.ipynb",
   "output_path": "__notebook__.ipynb",
   "parameters": {},
   "start_time": "2024-10-11T21:32:37.172344",
   "version": "2.6.0"
  }
 },
 "nbformat": 4,
 "nbformat_minor": 5
}
