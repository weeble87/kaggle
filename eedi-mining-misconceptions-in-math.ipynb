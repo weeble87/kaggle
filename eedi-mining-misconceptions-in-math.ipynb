{
 "cells": [
  {
   "cell_type": "code",
   "execution_count": 1,
   "id": "8ee5e110",
   "metadata": {
    "execution": {
     "iopub.execute_input": "2024-10-11T00:46:42.533871Z",
     "iopub.status.busy": "2024-10-11T00:46:42.533446Z",
     "iopub.status.idle": "2024-10-11T00:46:42.539241Z",
     "shell.execute_reply": "2024-10-11T00:46:42.538080Z"
    },
    "papermill": {
     "duration": 0.014228,
     "end_time": "2024-10-11T00:46:42.541752",
     "exception": false,
     "start_time": "2024-10-11T00:46:42.527524",
     "status": "completed"
    },
    "tags": []
   },
   "outputs": [],
   "source": [
    "# installing the libraries for transformers\n",
    "#!pip install -U -q sentence-transformers transformers bitsandbytes accelerate sentencepiece"
   ]
  },
  {
   "cell_type": "code",
   "execution_count": 2,
   "id": "8c47889e",
   "metadata": {
    "_cell_guid": "b1076dfc-b9ad-4769-8c92-a6c4dae69d19",
    "_uuid": "8f2839f25d086af736a60e9eeb907d3b93b6e0e5",
    "execution": {
     "iopub.execute_input": "2024-10-11T00:46:42.551410Z",
     "iopub.status.busy": "2024-10-11T00:46:42.550978Z",
     "iopub.status.idle": "2024-10-11T00:46:47.941831Z",
     "shell.execute_reply": "2024-10-11T00:46:47.940349Z"
    },
    "papermill": {
     "duration": 5.399065,
     "end_time": "2024-10-11T00:46:47.944943",
     "exception": false,
     "start_time": "2024-10-11T00:46:42.545878",
     "status": "completed"
    },
    "tags": []
   },
   "outputs": [],
   "source": [
    "# This Python 3 environment comes with many helpful analytics libraries installed\n",
    "# It is defined by the kaggle/python Docker image: https://github.com/kaggle/docker-python\n",
    "# For example, here's several helpful packages to load\n",
    "\n",
    "import numpy as np # linear algebra\n",
    "import pandas as pd # data processing, CSV file I/O (e.g. pd.read_csv)\n",
    "\n",
    "# Deep Learning library\n",
    "import torch\n",
    "\n",
    "# to load transformer models\n",
    "#from sentence_transformers import SentenceTransformer\n",
    "#from transformers import T5Tokenizer, T5ForConditionalGeneration, pipeline # T5 is Google\n",
    "\n",
    "# to split the data\n",
    "from sklearn.model_selection import train_test_split\n",
    "\n",
    "# to compute performance metrics\n",
    "from sklearn.metrics import confusion_matrix, classification_report, accuracy_score\n"
   ]
  },
  {
   "cell_type": "code",
   "execution_count": 3,
   "id": "e0f6dff1",
   "metadata": {
    "execution": {
     "iopub.execute_input": "2024-10-11T00:46:47.955758Z",
     "iopub.status.busy": "2024-10-11T00:46:47.955221Z",
     "iopub.status.idle": "2024-10-11T00:46:47.964610Z",
     "shell.execute_reply": "2024-10-11T00:46:47.963357Z"
    },
    "papermill": {
     "duration": 0.017215,
     "end_time": "2024-10-11T00:46:47.967130",
     "exception": false,
     "start_time": "2024-10-11T00:46:47.949915",
     "status": "completed"
    },
    "tags": []
   },
   "outputs": [
    {
     "name": "stdout",
     "output_type": "stream",
     "text": [
      "/kaggle/input/eedi-mining-misconceptions-in-mathematics/sample_submission.csv\n",
      "/kaggle/input/eedi-mining-misconceptions-in-mathematics/misconception_mapping.csv\n",
      "/kaggle/input/eedi-mining-misconceptions-in-mathematics/train.csv\n",
      "/kaggle/input/eedi-mining-misconceptions-in-mathematics/test.csv\n"
     ]
    }
   ],
   "source": [
    "\n",
    "# Input data files are available in the read-only \"../input/\" directory\n",
    "# For example, running this (by clicking run or pressing Shift+Enter) will list all files under the input directory\n",
    "\n",
    "import os\n",
    "files = []\n",
    "for dirname, _, filenames in os.walk('/kaggle/input'):\n",
    "    for filename in filenames:\n",
    "        print(os.path.join(dirname, filename))\n",
    "        files.append(os.path.join(dirname, filename))\n",
    "misconceptions_filename = files[1]\n",
    "train_filename = files[2]\n",
    "test_filename = files[3]\n",
    "# You can write up to 20GB to the current directory (/kaggle/working/) that gets preserved as output when you create a version using \"Save & Run All\" \n",
    "# You can also write temporary files to /kaggle/temp/, but they won't be saved outside of the current session"
   ]
  },
  {
   "cell_type": "markdown",
   "id": "0792826e",
   "metadata": {
    "papermill": {
     "duration": 0.003783,
     "end_time": "2024-10-11T00:46:47.974985",
     "exception": false,
     "start_time": "2024-10-11T00:46:47.971202",
     "status": "completed"
    },
    "tags": []
   },
   "source": [
    "## File and Field Information\n",
    "### [train/test].csv\n",
    "\n",
    "* QuestionId - Unique question identifier (int).\n",
    "* ConstructId - Unique construct identifier (int) .\n",
    "* ConstructName - Most granular level of knowledge related to question (str).\n",
    "* CorrectAnswer - A, B, C or D (char).\n",
    "* SubjectId - Unique subject identifier (int).\n",
    "* SubjectName - More general context than the construct (str).\n",
    "* QuestionText - Question text extracted from the question image using human-in-the-loop OCR (str) .\n",
    "* Answer[A/B/C/D]Text - Answer option A text extracted from the question image using human-in-the-loop OCR (str).\n",
    "* Misconception[A/B/C/D]Id - Unique misconception identifier (int). Ground truth labels in train.csv; your task is to predict these labels for test.csv.\n",
    "\n",
    "### misconception_mapping.csv\n",
    "maps MisconceptionId to its MisconceptionName\n",
    "\n",
    "### sample_submission.csv\n",
    "A submission file in the correct format.\n",
    "* QuestionId_Answer - Each question has three incorrect answers for which need you predict the MisconceptionId.\n",
    "* MisconceptionId - You can predict up to 25 values, space delimited."
   ]
  },
  {
   "cell_type": "code",
   "execution_count": 4,
   "id": "b00d5152",
   "metadata": {
    "execution": {
     "iopub.execute_input": "2024-10-11T00:46:47.988139Z",
     "iopub.status.busy": "2024-10-11T00:46:47.987013Z",
     "iopub.status.idle": "2024-10-11T00:46:48.074628Z",
     "shell.execute_reply": "2024-10-11T00:46:48.073550Z"
    },
    "papermill": {
     "duration": 0.096849,
     "end_time": "2024-10-11T00:46:48.077043",
     "exception": false,
     "start_time": "2024-10-11T00:46:47.980194",
     "status": "completed"
    },
    "tags": []
   },
   "outputs": [
    {
     "data": {
      "text/html": [
       "<div>\n",
       "<style scoped>\n",
       "    .dataframe tbody tr th:only-of-type {\n",
       "        vertical-align: middle;\n",
       "    }\n",
       "\n",
       "    .dataframe tbody tr th {\n",
       "        vertical-align: top;\n",
       "    }\n",
       "\n",
       "    .dataframe thead th {\n",
       "        text-align: right;\n",
       "    }\n",
       "</style>\n",
       "<table border=\"1\" class=\"dataframe\">\n",
       "  <thead>\n",
       "    <tr style=\"text-align: right;\">\n",
       "      <th></th>\n",
       "      <th>QuestionId</th>\n",
       "      <th>ConstructId</th>\n",
       "      <th>ConstructName</th>\n",
       "      <th>SubjectId</th>\n",
       "      <th>SubjectName</th>\n",
       "      <th>CorrectAnswer</th>\n",
       "      <th>QuestionText</th>\n",
       "      <th>AnswerAText</th>\n",
       "      <th>AnswerBText</th>\n",
       "      <th>AnswerCText</th>\n",
       "      <th>AnswerDText</th>\n",
       "      <th>MisconceptionAId</th>\n",
       "      <th>MisconceptionBId</th>\n",
       "      <th>MisconceptionCId</th>\n",
       "      <th>MisconceptionDId</th>\n",
       "    </tr>\n",
       "  </thead>\n",
       "  <tbody>\n",
       "    <tr>\n",
       "      <th>0</th>\n",
       "      <td>0</td>\n",
       "      <td>856</td>\n",
       "      <td>Use the order of operations to carry out calcu...</td>\n",
       "      <td>33</td>\n",
       "      <td>BIDMAS</td>\n",
       "      <td>A</td>\n",
       "      <td>\\[\\n3 \\times 2+4-5\\n\\]\\nWhere do the brackets ...</td>\n",
       "      <td>\\( 3 \\times(2+4)-5 \\)</td>\n",
       "      <td>\\( 3 \\times 2+(4-5) \\)</td>\n",
       "      <td>\\( 3 \\times(2+4-5) \\)</td>\n",
       "      <td>Does not need brackets</td>\n",
       "      <td>NaN</td>\n",
       "      <td>NaN</td>\n",
       "      <td>NaN</td>\n",
       "      <td>1672.0</td>\n",
       "    </tr>\n",
       "    <tr>\n",
       "      <th>1</th>\n",
       "      <td>1</td>\n",
       "      <td>1612</td>\n",
       "      <td>Simplify an algebraic fraction by factorising ...</td>\n",
       "      <td>1077</td>\n",
       "      <td>Simplifying Algebraic Fractions</td>\n",
       "      <td>D</td>\n",
       "      <td>Simplify the following, if possible: \\( \\frac{...</td>\n",
       "      <td>\\( m+1 \\)</td>\n",
       "      <td>\\( m+2 \\)</td>\n",
       "      <td>\\( m-1 \\)</td>\n",
       "      <td>Does not simplify</td>\n",
       "      <td>2142.0</td>\n",
       "      <td>143.0</td>\n",
       "      <td>2142.0</td>\n",
       "      <td>NaN</td>\n",
       "    </tr>\n",
       "    <tr>\n",
       "      <th>2</th>\n",
       "      <td>2</td>\n",
       "      <td>2774</td>\n",
       "      <td>Calculate the range from a list of data</td>\n",
       "      <td>339</td>\n",
       "      <td>Range and Interquartile Range from a List of Data</td>\n",
       "      <td>B</td>\n",
       "      <td>Tom and Katie are discussing the \\( 5 \\) plant...</td>\n",
       "      <td>Only\\nTom</td>\n",
       "      <td>Only\\nKatie</td>\n",
       "      <td>Both Tom and Katie</td>\n",
       "      <td>Neither is correct</td>\n",
       "      <td>1287.0</td>\n",
       "      <td>NaN</td>\n",
       "      <td>1287.0</td>\n",
       "      <td>1073.0</td>\n",
       "    </tr>\n",
       "    <tr>\n",
       "      <th>3</th>\n",
       "      <td>3</td>\n",
       "      <td>2377</td>\n",
       "      <td>Recall and use the intersecting diagonals prop...</td>\n",
       "      <td>88</td>\n",
       "      <td>Properties of Quadrilaterals</td>\n",
       "      <td>C</td>\n",
       "      <td>The angles highlighted on this rectangle with ...</td>\n",
       "      <td>acute</td>\n",
       "      <td>obtuse</td>\n",
       "      <td>\\( 90^{\\circ} \\)</td>\n",
       "      <td>Not enough information</td>\n",
       "      <td>1180.0</td>\n",
       "      <td>1180.0</td>\n",
       "      <td>NaN</td>\n",
       "      <td>1180.0</td>\n",
       "    </tr>\n",
       "    <tr>\n",
       "      <th>4</th>\n",
       "      <td>4</td>\n",
       "      <td>3387</td>\n",
       "      <td>Substitute positive integer values into formul...</td>\n",
       "      <td>67</td>\n",
       "      <td>Substitution into Formula</td>\n",
       "      <td>A</td>\n",
       "      <td>The equation \\( f=3 r^{2}+3 \\) is used to find...</td>\n",
       "      <td>\\( 30 \\)</td>\n",
       "      <td>\\( 27 \\)</td>\n",
       "      <td>\\( 51 \\)</td>\n",
       "      <td>\\( 24 \\)</td>\n",
       "      <td>NaN</td>\n",
       "      <td>NaN</td>\n",
       "      <td>NaN</td>\n",
       "      <td>1818.0</td>\n",
       "    </tr>\n",
       "  </tbody>\n",
       "</table>\n",
       "</div>"
      ],
      "text/plain": [
       "   QuestionId  ConstructId                                      ConstructName  \\\n",
       "0           0          856  Use the order of operations to carry out calcu...   \n",
       "1           1         1612  Simplify an algebraic fraction by factorising ...   \n",
       "2           2         2774            Calculate the range from a list of data   \n",
       "3           3         2377  Recall and use the intersecting diagonals prop...   \n",
       "4           4         3387  Substitute positive integer values into formul...   \n",
       "\n",
       "   SubjectId                                        SubjectName CorrectAnswer  \\\n",
       "0         33                                             BIDMAS             A   \n",
       "1       1077                    Simplifying Algebraic Fractions             D   \n",
       "2        339  Range and Interquartile Range from a List of Data             B   \n",
       "3         88                       Properties of Quadrilaterals             C   \n",
       "4         67                          Substitution into Formula             A   \n",
       "\n",
       "                                        QuestionText            AnswerAText  \\\n",
       "0  \\[\\n3 \\times 2+4-5\\n\\]\\nWhere do the brackets ...  \\( 3 \\times(2+4)-5 \\)   \n",
       "1  Simplify the following, if possible: \\( \\frac{...              \\( m+1 \\)   \n",
       "2  Tom and Katie are discussing the \\( 5 \\) plant...              Only\\nTom   \n",
       "3  The angles highlighted on this rectangle with ...                  acute   \n",
       "4  The equation \\( f=3 r^{2}+3 \\) is used to find...               \\( 30 \\)   \n",
       "\n",
       "              AnswerBText            AnswerCText             AnswerDText  \\\n",
       "0  \\( 3 \\times 2+(4-5) \\)  \\( 3 \\times(2+4-5) \\)  Does not need brackets   \n",
       "1               \\( m+2 \\)              \\( m-1 \\)       Does not simplify   \n",
       "2             Only\\nKatie     Both Tom and Katie      Neither is correct   \n",
       "3                  obtuse       \\( 90^{\\circ} \\)  Not enough information   \n",
       "4                \\( 27 \\)               \\( 51 \\)                \\( 24 \\)   \n",
       "\n",
       "   MisconceptionAId  MisconceptionBId  MisconceptionCId  MisconceptionDId  \n",
       "0               NaN               NaN               NaN            1672.0  \n",
       "1            2142.0             143.0            2142.0               NaN  \n",
       "2            1287.0               NaN            1287.0            1073.0  \n",
       "3            1180.0            1180.0               NaN            1180.0  \n",
       "4               NaN               NaN               NaN            1818.0  "
      ]
     },
     "execution_count": 4,
     "metadata": {},
     "output_type": "execute_result"
    }
   ],
   "source": [
    "train_data = pd.read_csv(train_filename)\n",
    "train_data_orig = train_data.copy()\n",
    "train_data.head()"
   ]
  },
  {
   "cell_type": "code",
   "execution_count": 5,
   "id": "7664e417",
   "metadata": {
    "execution": {
     "iopub.execute_input": "2024-10-11T00:46:48.087243Z",
     "iopub.status.busy": "2024-10-11T00:46:48.086778Z",
     "iopub.status.idle": "2024-10-11T00:46:48.093384Z",
     "shell.execute_reply": "2024-10-11T00:46:48.092143Z"
    },
    "papermill": {
     "duration": 0.014307,
     "end_time": "2024-10-11T00:46:48.095631",
     "exception": false,
     "start_time": "2024-10-11T00:46:48.081324",
     "status": "completed"
    },
    "tags": []
   },
   "outputs": [
    {
     "name": "stdout",
     "output_type": "stream",
     "text": [
      "train_data shape\n",
      "rows 1869\n",
      "columns 15\n"
     ]
    }
   ],
   "source": [
    "print (\"train_data shape\")\n",
    "print(\"rows\",train_data.shape[0])\n",
    "print(\"columns\",train_data.shape[1])"
   ]
  },
  {
   "cell_type": "code",
   "execution_count": 6,
   "id": "091323e5",
   "metadata": {
    "execution": {
     "iopub.execute_input": "2024-10-11T00:46:48.106077Z",
     "iopub.status.busy": "2024-10-11T00:46:48.105644Z",
     "iopub.status.idle": "2024-10-11T00:46:48.139656Z",
     "shell.execute_reply": "2024-10-11T00:46:48.138581Z"
    },
    "papermill": {
     "duration": 0.042118,
     "end_time": "2024-10-11T00:46:48.142138",
     "exception": false,
     "start_time": "2024-10-11T00:46:48.100020",
     "status": "completed"
    },
    "tags": []
   },
   "outputs": [
    {
     "name": "stdout",
     "output_type": "stream",
     "text": [
      "163  different subject groups\n"
     ]
    },
    {
     "data": {
      "text/html": [
       "<div>\n",
       "<style scoped>\n",
       "    .dataframe tbody tr th:only-of-type {\n",
       "        vertical-align: middle;\n",
       "    }\n",
       "\n",
       "    .dataframe tbody tr th {\n",
       "        vertical-align: top;\n",
       "    }\n",
       "\n",
       "    .dataframe thead th {\n",
       "        text-align: right;\n",
       "    }\n",
       "</style>\n",
       "<table border=\"1\" class=\"dataframe\">\n",
       "  <thead>\n",
       "    <tr style=\"text-align: right;\">\n",
       "      <th></th>\n",
       "      <th>SubjectId</th>\n",
       "      <th>SubjectName</th>\n",
       "      <th>QuestionId</th>\n",
       "      <th>ConstructId</th>\n",
       "      <th>ConstructName</th>\n",
       "      <th>CorrectAnswer</th>\n",
       "      <th>QuestionText</th>\n",
       "      <th>AnswerAText</th>\n",
       "      <th>AnswerBText</th>\n",
       "      <th>AnswerCText</th>\n",
       "      <th>AnswerDText</th>\n",
       "      <th>MisconceptionAId</th>\n",
       "      <th>MisconceptionBId</th>\n",
       "      <th>MisconceptionCId</th>\n",
       "      <th>MisconceptionDId</th>\n",
       "    </tr>\n",
       "  </thead>\n",
       "  <tbody>\n",
       "    <tr>\n",
       "      <th>0</th>\n",
       "      <td>64</td>\n",
       "      <td>Linear Equations</td>\n",
       "      <td>53</td>\n",
       "      <td>53</td>\n",
       "      <td>53</td>\n",
       "      <td>53</td>\n",
       "      <td>53</td>\n",
       "      <td>53</td>\n",
       "      <td>53</td>\n",
       "      <td>53</td>\n",
       "      <td>53</td>\n",
       "      <td>23</td>\n",
       "      <td>32</td>\n",
       "      <td>30</td>\n",
       "      <td>27</td>\n",
       "    </tr>\n",
       "    <tr>\n",
       "      <th>1</th>\n",
       "      <td>171</td>\n",
       "      <td>Linear Sequences (nth term)</td>\n",
       "      <td>44</td>\n",
       "      <td>44</td>\n",
       "      <td>44</td>\n",
       "      <td>44</td>\n",
       "      <td>44</td>\n",
       "      <td>44</td>\n",
       "      <td>44</td>\n",
       "      <td>44</td>\n",
       "      <td>44</td>\n",
       "      <td>28</td>\n",
       "      <td>20</td>\n",
       "      <td>21</td>\n",
       "      <td>19</td>\n",
       "    </tr>\n",
       "    <tr>\n",
       "      <th>2</th>\n",
       "      <td>33</td>\n",
       "      <td>BIDMAS</td>\n",
       "      <td>37</td>\n",
       "      <td>37</td>\n",
       "      <td>37</td>\n",
       "      <td>37</td>\n",
       "      <td>37</td>\n",
       "      <td>37</td>\n",
       "      <td>37</td>\n",
       "      <td>37</td>\n",
       "      <td>37</td>\n",
       "      <td>20</td>\n",
       "      <td>21</td>\n",
       "      <td>23</td>\n",
       "      <td>24</td>\n",
       "    </tr>\n",
       "    <tr>\n",
       "      <th>3</th>\n",
       "      <td>65</td>\n",
       "      <td>Quadratic Equations</td>\n",
       "      <td>36</td>\n",
       "      <td>36</td>\n",
       "      <td>36</td>\n",
       "      <td>36</td>\n",
       "      <td>36</td>\n",
       "      <td>36</td>\n",
       "      <td>36</td>\n",
       "      <td>36</td>\n",
       "      <td>36</td>\n",
       "      <td>18</td>\n",
       "      <td>17</td>\n",
       "      <td>25</td>\n",
       "      <td>14</td>\n",
       "    </tr>\n",
       "    <tr>\n",
       "      <th>4</th>\n",
       "      <td>75</td>\n",
       "      <td>Area of Simple Shapes</td>\n",
       "      <td>36</td>\n",
       "      <td>36</td>\n",
       "      <td>36</td>\n",
       "      <td>36</td>\n",
       "      <td>36</td>\n",
       "      <td>36</td>\n",
       "      <td>36</td>\n",
       "      <td>36</td>\n",
       "      <td>36</td>\n",
       "      <td>22</td>\n",
       "      <td>26</td>\n",
       "      <td>23</td>\n",
       "      <td>24</td>\n",
       "    </tr>\n",
       "  </tbody>\n",
       "</table>\n",
       "</div>"
      ],
      "text/plain": [
       "   SubjectId                  SubjectName  QuestionId  ConstructId  \\\n",
       "0         64             Linear Equations          53           53   \n",
       "1        171  Linear Sequences (nth term)          44           44   \n",
       "2         33                       BIDMAS          37           37   \n",
       "3         65          Quadratic Equations          36           36   \n",
       "4         75        Area of Simple Shapes          36           36   \n",
       "\n",
       "   ConstructName  CorrectAnswer  QuestionText  AnswerAText  AnswerBText  \\\n",
       "0             53             53            53           53           53   \n",
       "1             44             44            44           44           44   \n",
       "2             37             37            37           37           37   \n",
       "3             36             36            36           36           36   \n",
       "4             36             36            36           36           36   \n",
       "\n",
       "   AnswerCText  AnswerDText  MisconceptionAId  MisconceptionBId  \\\n",
       "0           53           53                23                32   \n",
       "1           44           44                28                20   \n",
       "2           37           37                20                21   \n",
       "3           36           36                18                17   \n",
       "4           36           36                22                26   \n",
       "\n",
       "   MisconceptionCId  MisconceptionDId  \n",
       "0                30                27  \n",
       "1                21                19  \n",
       "2                23                24  \n",
       "3                25                14  \n",
       "4                23                24  "
      ]
     },
     "execution_count": 6,
     "metadata": {},
     "output_type": "execute_result"
    }
   ],
   "source": [
    "subject_groups = train_data.groupby([\"SubjectId\",\"SubjectName\"]).count().sort_values('QuestionId',ascending=False).reset_index()\n",
    "print(subject_groups.shape[0], \" different subject groups\")\n",
    "subject_groups.head()"
   ]
  },
  {
   "cell_type": "code",
   "execution_count": 7,
   "id": "5a3e8f7a",
   "metadata": {
    "execution": {
     "iopub.execute_input": "2024-10-11T00:46:48.153368Z",
     "iopub.status.busy": "2024-10-11T00:46:48.152970Z",
     "iopub.status.idle": "2024-10-11T00:46:48.173657Z",
     "shell.execute_reply": "2024-10-11T00:46:48.172512Z"
    },
    "papermill": {
     "duration": 0.02905,
     "end_time": "2024-10-11T00:46:48.176013",
     "exception": false,
     "start_time": "2024-10-11T00:46:48.146963",
     "status": "completed"
    },
    "tags": []
   },
   "outputs": [
    {
     "name": "stdout",
     "output_type": "stream",
     "text": [
      "percentages of null values\n"
     ]
    },
    {
     "data": {
      "text/html": [
       "<div>\n",
       "<style scoped>\n",
       "    .dataframe tbody tr th:only-of-type {\n",
       "        vertical-align: middle;\n",
       "    }\n",
       "\n",
       "    .dataframe tbody tr th {\n",
       "        vertical-align: top;\n",
       "    }\n",
       "\n",
       "    .dataframe thead th {\n",
       "        text-align: right;\n",
       "    }\n",
       "</style>\n",
       "<table border=\"1\" class=\"dataframe\">\n",
       "  <thead>\n",
       "    <tr style=\"text-align: right;\">\n",
       "      <th></th>\n",
       "      <th>Count</th>\n",
       "      <th>Percentage</th>\n",
       "    </tr>\n",
       "  </thead>\n",
       "  <tbody>\n",
       "    <tr>\n",
       "      <th>MisconceptionAId</th>\n",
       "      <td>734</td>\n",
       "      <td>39.272338</td>\n",
       "    </tr>\n",
       "    <tr>\n",
       "      <th>MisconceptionBId</th>\n",
       "      <td>751</td>\n",
       "      <td>40.181915</td>\n",
       "    </tr>\n",
       "    <tr>\n",
       "      <th>MisconceptionCId</th>\n",
       "      <td>789</td>\n",
       "      <td>42.215088</td>\n",
       "    </tr>\n",
       "    <tr>\n",
       "      <th>MisconceptionDId</th>\n",
       "      <td>832</td>\n",
       "      <td>44.515784</td>\n",
       "    </tr>\n",
       "  </tbody>\n",
       "</table>\n",
       "</div>"
      ],
      "text/plain": [
       "                  Count  Percentage\n",
       "MisconceptionAId    734   39.272338\n",
       "MisconceptionBId    751   40.181915\n",
       "MisconceptionCId    789   42.215088\n",
       "MisconceptionDId    832   44.515784"
      ]
     },
     "execution_count": 7,
     "metadata": {},
     "output_type": "execute_result"
    }
   ],
   "source": [
    "print(\"percentages of null values\")\n",
    "pd.DataFrame({'Count':train_data.isnull().sum()[train_data.isnull().sum()>0],'Percentage':(train_data.isnull().sum()[train_data.isnull().sum()>0]/train_data.shape[0])*100})"
   ]
  },
  {
   "cell_type": "code",
   "execution_count": 8,
   "id": "4751a10c",
   "metadata": {
    "execution": {
     "iopub.execute_input": "2024-10-11T00:46:48.187814Z",
     "iopub.status.busy": "2024-10-11T00:46:48.187135Z",
     "iopub.status.idle": "2024-10-11T00:46:48.199896Z",
     "shell.execute_reply": "2024-10-11T00:46:48.198887Z"
    },
    "papermill": {
     "duration": 0.021141,
     "end_time": "2024-10-11T00:46:48.202069",
     "exception": false,
     "start_time": "2024-10-11T00:46:48.180928",
     "status": "completed"
    },
    "tags": []
   },
   "outputs": [
    {
     "name": "stdout",
     "output_type": "stream",
     "text": [
      "(244, 15)\n"
     ]
    },
    {
     "data": {
      "text/plain": [
       "(482, 15)"
      ]
     },
     "execution_count": 8,
     "metadata": {},
     "output_type": "execute_result"
    }
   ],
   "source": [
    "# records where more than one misconception id is missing\n",
    "missing_a_misconception = train_data[(train_data.CorrectAnswer == \"A\") & (train_data.MisconceptionBId.isnull() | train_data.MisconceptionCId.isnull()  | train_data.MisconceptionDId.isnull()) ]\n",
    "print(missing_a_misconception.shape)\n",
    "missing_a_misconception.head()\n",
    "train_data[(train_data.CorrectAnswer == \"A\")].shape"
   ]
  },
  {
   "cell_type": "code",
   "execution_count": 9,
   "id": "7f0de897",
   "metadata": {
    "execution": {
     "iopub.execute_input": "2024-10-11T00:46:48.214094Z",
     "iopub.status.busy": "2024-10-11T00:46:48.213654Z",
     "iopub.status.idle": "2024-10-11T00:46:48.235888Z",
     "shell.execute_reply": "2024-10-11T00:46:48.233955Z"
    },
    "papermill": {
     "duration": 0.031926,
     "end_time": "2024-10-11T00:46:48.239166",
     "exception": false,
     "start_time": "2024-10-11T00:46:48.207240",
     "status": "completed"
    },
    "tags": []
   },
   "outputs": [
    {
     "data": {
      "text/html": [
       "<div>\n",
       "<style scoped>\n",
       "    .dataframe tbody tr th:only-of-type {\n",
       "        vertical-align: middle;\n",
       "    }\n",
       "\n",
       "    .dataframe tbody tr th {\n",
       "        vertical-align: top;\n",
       "    }\n",
       "\n",
       "    .dataframe thead th {\n",
       "        text-align: right;\n",
       "    }\n",
       "</style>\n",
       "<table border=\"1\" class=\"dataframe\">\n",
       "  <thead>\n",
       "    <tr style=\"text-align: right;\">\n",
       "      <th></th>\n",
       "      <th>QuestionId</th>\n",
       "      <th>ConstructId</th>\n",
       "      <th>ConstructName</th>\n",
       "      <th>SubjectId</th>\n",
       "      <th>SubjectName</th>\n",
       "      <th>CorrectAnswer</th>\n",
       "      <th>QuestionText</th>\n",
       "      <th>AnswerAText</th>\n",
       "      <th>AnswerBText</th>\n",
       "      <th>AnswerCText</th>\n",
       "      <th>AnswerDText</th>\n",
       "      <th>MisconceptionAId</th>\n",
       "      <th>MisconceptionBId</th>\n",
       "      <th>MisconceptionCId</th>\n",
       "      <th>MisconceptionDId</th>\n",
       "    </tr>\n",
       "  </thead>\n",
       "  <tbody>\n",
       "    <tr>\n",
       "      <th>18</th>\n",
       "      <td>18</td>\n",
       "      <td>261</td>\n",
       "      <td>Carry out missing number subtraction problems ...</td>\n",
       "      <td>211</td>\n",
       "      <td>Adding and Subtracting Negative Numbers</td>\n",
       "      <td>B</td>\n",
       "      <td>![Number line with -12 and -7 marked. Starting...</td>\n",
       "      <td>\\( -7 \\)</td>\n",
       "      <td>\\( -5 \\)</td>\n",
       "      <td>\\( -2 \\)</td>\n",
       "      <td>\\( -6 \\)</td>\n",
       "      <td>2179.0</td>\n",
       "      <td>NaN</td>\n",
       "      <td>NaN</td>\n",
       "      <td>1824.0</td>\n",
       "    </tr>\n",
       "    <tr>\n",
       "      <th>20</th>\n",
       "      <td>20</td>\n",
       "      <td>2306</td>\n",
       "      <td>Given the volume of a cuboid, work out missing...</td>\n",
       "      <td>189</td>\n",
       "      <td>Volume of Prisms</td>\n",
       "      <td>B</td>\n",
       "      <td>The volume of this cuboid is \\( 30 \\mathrm{~cm...</td>\n",
       "      <td>\\( 6 \\mathrm{~cm} \\)</td>\n",
       "      <td>\\( 5 \\mathrm{~cm} \\)</td>\n",
       "      <td>\\( 4 \\mathrm{~cm} \\)</td>\n",
       "      <td>\\( 25 \\mathrm{~cm} \\)</td>\n",
       "      <td>NaN</td>\n",
       "      <td>NaN</td>\n",
       "      <td>NaN</td>\n",
       "      <td>1984.0</td>\n",
       "    </tr>\n",
       "    <tr>\n",
       "      <th>21</th>\n",
       "      <td>21</td>\n",
       "      <td>1434</td>\n",
       "      <td>Factorise a quadratic expression in the form a...</td>\n",
       "      <td>53</td>\n",
       "      <td>Factorising into a Double Bracket</td>\n",
       "      <td>B</td>\n",
       "      <td>Step 1: Factorise the following expression\\n\\n...</td>\n",
       "      <td>\\( (3 x+2)(3 x+1) \\)</td>\n",
       "      <td>\\( (3 x+2)(x+1) \\)</td>\n",
       "      <td>Cannot be factorised</td>\n",
       "      <td>\\( (3 x+1)(x+2) \\)</td>\n",
       "      <td>2240.0</td>\n",
       "      <td>NaN</td>\n",
       "      <td>NaN</td>\n",
       "      <td>NaN</td>\n",
       "    </tr>\n",
       "    <tr>\n",
       "      <th>43</th>\n",
       "      <td>43</td>\n",
       "      <td>446</td>\n",
       "      <td>Divide proper fractions in the form: Fraction ...</td>\n",
       "      <td>232</td>\n",
       "      <td>Dividing Fractions</td>\n",
       "      <td>B</td>\n",
       "      <td>Calculate: \\( \\frac{4}{8} \\div 2 \\)</td>\n",
       "      <td>\\( \\frac{2}{4} \\)</td>\n",
       "      <td>\\( \\frac{2}{8} \\)</td>\n",
       "      <td>\\( \\frac{2}{16} \\)</td>\n",
       "      <td>\\( \\frac{4}{4} \\)</td>\n",
       "      <td>381.0</td>\n",
       "      <td>NaN</td>\n",
       "      <td>NaN</td>\n",
       "      <td>1156.0</td>\n",
       "    </tr>\n",
       "    <tr>\n",
       "      <th>61</th>\n",
       "      <td>61</td>\n",
       "      <td>3118</td>\n",
       "      <td>Read a fraction on a scale where the required ...</td>\n",
       "      <td>228</td>\n",
       "      <td>Ordering Fractions</td>\n",
       "      <td>B</td>\n",
       "      <td>What fraction should replace the star? ![A num...</td>\n",
       "      <td>\\( \\frac{3}{8} \\)</td>\n",
       "      <td>\\( \\frac{5}{8} \\)</td>\n",
       "      <td>\\( \\frac{1}{2} \\)</td>\n",
       "      <td>None of these</td>\n",
       "      <td>NaN</td>\n",
       "      <td>NaN</td>\n",
       "      <td>NaN</td>\n",
       "      <td>990.0</td>\n",
       "    </tr>\n",
       "  </tbody>\n",
       "</table>\n",
       "</div>"
      ],
      "text/plain": [
       "    QuestionId  ConstructId  \\\n",
       "18          18          261   \n",
       "20          20         2306   \n",
       "21          21         1434   \n",
       "43          43          446   \n",
       "61          61         3118   \n",
       "\n",
       "                                        ConstructName  SubjectId  \\\n",
       "18  Carry out missing number subtraction problems ...        211   \n",
       "20  Given the volume of a cuboid, work out missing...        189   \n",
       "21  Factorise a quadratic expression in the form a...         53   \n",
       "43  Divide proper fractions in the form: Fraction ...        232   \n",
       "61  Read a fraction on a scale where the required ...        228   \n",
       "\n",
       "                                SubjectName CorrectAnswer  \\\n",
       "18  Adding and Subtracting Negative Numbers             B   \n",
       "20                         Volume of Prisms             B   \n",
       "21        Factorising into a Double Bracket             B   \n",
       "43                       Dividing Fractions             B   \n",
       "61                       Ordering Fractions             B   \n",
       "\n",
       "                                         QuestionText           AnswerAText  \\\n",
       "18  ![Number line with -12 and -7 marked. Starting...              \\( -7 \\)   \n",
       "20  The volume of this cuboid is \\( 30 \\mathrm{~cm...  \\( 6 \\mathrm{~cm} \\)   \n",
       "21  Step 1: Factorise the following expression\\n\\n...  \\( (3 x+2)(3 x+1) \\)   \n",
       "43                Calculate: \\( \\frac{4}{8} \\div 2 \\)     \\( \\frac{2}{4} \\)   \n",
       "61  What fraction should replace the star? ![A num...     \\( \\frac{3}{8} \\)   \n",
       "\n",
       "             AnswerBText           AnswerCText            AnswerDText  \\\n",
       "18              \\( -5 \\)              \\( -2 \\)               \\( -6 \\)   \n",
       "20  \\( 5 \\mathrm{~cm} \\)  \\( 4 \\mathrm{~cm} \\)  \\( 25 \\mathrm{~cm} \\)   \n",
       "21    \\( (3 x+2)(x+1) \\)  Cannot be factorised     \\( (3 x+1)(x+2) \\)   \n",
       "43     \\( \\frac{2}{8} \\)    \\( \\frac{2}{16} \\)      \\( \\frac{4}{4} \\)   \n",
       "61     \\( \\frac{5}{8} \\)     \\( \\frac{1}{2} \\)          None of these   \n",
       "\n",
       "    MisconceptionAId  MisconceptionBId  MisconceptionCId  MisconceptionDId  \n",
       "18            2179.0               NaN               NaN            1824.0  \n",
       "20               NaN               NaN               NaN            1984.0  \n",
       "21            2240.0               NaN               NaN               NaN  \n",
       "43             381.0               NaN               NaN            1156.0  \n",
       "61               NaN               NaN               NaN             990.0  "
      ]
     },
     "execution_count": 9,
     "metadata": {},
     "output_type": "execute_result"
    }
   ],
   "source": [
    "missing_b_misconpception = train_data[(train_data.CorrectAnswer == \"B\") & (train_data.MisconceptionCId.isnull()) ]\n",
    "missing_b_misconpception.head()"
   ]
  },
  {
   "cell_type": "code",
   "execution_count": 10,
   "id": "6ccbfca1",
   "metadata": {
    "execution": {
     "iopub.execute_input": "2024-10-11T00:46:48.255975Z",
     "iopub.status.busy": "2024-10-11T00:46:48.254714Z",
     "iopub.status.idle": "2024-10-11T00:46:48.281701Z",
     "shell.execute_reply": "2024-10-11T00:46:48.280435Z"
    },
    "papermill": {
     "duration": 0.037449,
     "end_time": "2024-10-11T00:46:48.284601",
     "exception": false,
     "start_time": "2024-10-11T00:46:48.247152",
     "status": "completed"
    },
    "tags": []
   },
   "outputs": [
    {
     "data": {
      "text/html": [
       "<div>\n",
       "<style scoped>\n",
       "    .dataframe tbody tr th:only-of-type {\n",
       "        vertical-align: middle;\n",
       "    }\n",
       "\n",
       "    .dataframe tbody tr th {\n",
       "        vertical-align: top;\n",
       "    }\n",
       "\n",
       "    .dataframe thead th {\n",
       "        text-align: right;\n",
       "    }\n",
       "</style>\n",
       "<table border=\"1\" class=\"dataframe\">\n",
       "  <thead>\n",
       "    <tr style=\"text-align: right;\">\n",
       "      <th></th>\n",
       "      <th>MisconceptionId</th>\n",
       "      <th>MisconceptionName</th>\n",
       "    </tr>\n",
       "  </thead>\n",
       "  <tbody>\n",
       "    <tr>\n",
       "      <th>0</th>\n",
       "      <td>0</td>\n",
       "      <td>Does not know that angles in a triangle sum to...</td>\n",
       "    </tr>\n",
       "    <tr>\n",
       "      <th>1</th>\n",
       "      <td>1</td>\n",
       "      <td>Uses dividing fractions method for multiplying...</td>\n",
       "    </tr>\n",
       "    <tr>\n",
       "      <th>2</th>\n",
       "      <td>2</td>\n",
       "      <td>Believes there are 100 degrees in a full turn</td>\n",
       "    </tr>\n",
       "    <tr>\n",
       "      <th>3</th>\n",
       "      <td>3</td>\n",
       "      <td>Thinks a quadratic without a non variable term...</td>\n",
       "    </tr>\n",
       "    <tr>\n",
       "      <th>4</th>\n",
       "      <td>4</td>\n",
       "      <td>Believes addition of terms and powers of terms...</td>\n",
       "    </tr>\n",
       "  </tbody>\n",
       "</table>\n",
       "</div>"
      ],
      "text/plain": [
       "   MisconceptionId                                  MisconceptionName\n",
       "0                0  Does not know that angles in a triangle sum to...\n",
       "1                1  Uses dividing fractions method for multiplying...\n",
       "2                2      Believes there are 100 degrees in a full turn\n",
       "3                3  Thinks a quadratic without a non variable term...\n",
       "4                4  Believes addition of terms and powers of terms..."
      ]
     },
     "execution_count": 10,
     "metadata": {},
     "output_type": "execute_result"
    }
   ],
   "source": [
    "misc_con_data = pd.read_csv(misconceptions_filename)\n",
    "misc_con_data.head()"
   ]
  },
  {
   "cell_type": "code",
   "execution_count": 11,
   "id": "9d9d0ecc",
   "metadata": {
    "execution": {
     "iopub.execute_input": "2024-10-11T00:46:48.298780Z",
     "iopub.status.busy": "2024-10-11T00:46:48.298256Z",
     "iopub.status.idle": "2024-10-11T00:46:48.305662Z",
     "shell.execute_reply": "2024-10-11T00:46:48.304411Z"
    },
    "papermill": {
     "duration": 0.017196,
     "end_time": "2024-10-11T00:46:48.308186",
     "exception": false,
     "start_time": "2024-10-11T00:46:48.290990",
     "status": "completed"
    },
    "tags": []
   },
   "outputs": [],
   "source": [
    "# defining a function to compute the cosine similarity between two embedding vectors\n",
    "def cosine_score(text):\n",
    "    # encoding the text\n",
    "    embeddings = model.encode(text)\n",
    "\n",
    "    # calculating the L2 norm of the embedding vector\n",
    "    norm1 = np.linalg.norm(embeddings[0])\n",
    "    norm2 = np.linalg.norm(embeddings[1])\n",
    "\n",
    "    # computing the cosine similarity\n",
    "    cosine_similarity_score = ((np.dot(embeddings[0],embeddings[1]))/(norm1*norm2))\n",
    "\n",
    "    return cosine_similarity_score"
   ]
  },
  {
   "cell_type": "code",
   "execution_count": 12,
   "id": "ae3adb29",
   "metadata": {
    "execution": {
     "iopub.execute_input": "2024-10-11T00:46:48.321648Z",
     "iopub.status.busy": "2024-10-11T00:46:48.321155Z",
     "iopub.status.idle": "2024-10-11T00:46:48.327182Z",
     "shell.execute_reply": "2024-10-11T00:46:48.325700Z"
    },
    "papermill": {
     "duration": 0.016404,
     "end_time": "2024-10-11T00:46:48.330461",
     "exception": false,
     "start_time": "2024-10-11T00:46:48.314057",
     "status": "completed"
    },
    "tags": []
   },
   "outputs": [],
   "source": [
    "# use pylatexenc to convert latex to text then vector"
   ]
  }
 ],
 "metadata": {
  "kaggle": {
   "accelerator": "none",
   "dataSources": [
    {
     "databundleVersionId": 9551816,
     "sourceId": 82695,
     "sourceType": "competition"
    }
   ],
   "dockerImageVersionId": 30761,
   "isGpuEnabled": false,
   "isInternetEnabled": true,
   "language": "python",
   "sourceType": "notebook"
  },
  "kernelspec": {
   "display_name": "Python 3",
   "language": "python",
   "name": "python3"
  },
  "language_info": {
   "codemirror_mode": {
    "name": "ipython",
    "version": 3
   },
   "file_extension": ".py",
   "mimetype": "text/x-python",
   "name": "python",
   "nbconvert_exporter": "python",
   "pygments_lexer": "ipython3",
   "version": "3.10.14"
  },
  "papermill": {
   "default_parameters": {},
   "duration": 9.660481,
   "end_time": "2024-10-11T00:46:49.359068",
   "environment_variables": {},
   "exception": null,
   "input_path": "__notebook__.ipynb",
   "output_path": "__notebook__.ipynb",
   "parameters": {},
   "start_time": "2024-10-11T00:46:39.698587",
   "version": "2.6.0"
  }
 },
 "nbformat": 4,
 "nbformat_minor": 5
}
